{
  "nbformat": 4,
  "nbformat_minor": 0,
  "metadata": {
    "colab": {
      "name": "AirBnB.ipynb",
      "provenance": [],
      "collapsed_sections": []
    },
    "kernelspec": {
      "name": "python3",
      "display_name": "Python 3"
    }
  },
  "cells": [
    {
      "cell_type": "markdown",
      "metadata": {
        "id": "NYKQPY5-376q",
        "colab_type": "text"
      },
      "source": [
        "#Intro:\n",
        "In this project, I will be analyzing data from AirBnB. I will be looking at the data for Seattle and Boston and address three key questions with the data using the CRISP-DM Process (Cross Industry Process for Data Mining)"
      ]
    },
    {
      "cell_type": "markdown",
      "metadata": {
        "id": "OSngFlNC6KyB",
        "colab_type": "text"
      },
      "source": [
        "#CRISP-DM\n",
        "**Business Understanding** <br>\n",
        "I will be evaluating the data for my company that uses Airbnb services a lot for our workers who travel often. Since we are a startup, we are on a budget. They assigned me the task of analyzing the data and determine when and were would be the best time and place to book on Airbnb. <br>\n",
        "**Question 1:** \n",
        "Our first question to address is does the season / month effect the price of listing? If so, which season / month is the most profitable? Which ones are least profitable?"
      ]
    },
    {
      "cell_type": "markdown",
      "metadata": {
        "id": "A1QTq-to4iPk",
        "colab_type": "text"
      },
      "source": [
        "##Data Understanding\n",
        "**Gathering Data:**"
      ]
    },
    {
      "cell_type": "code",
      "metadata": {
        "id": "VEE4pEtS6kIh",
        "colab_type": "code",
        "colab": {}
      },
      "source": [
        "import pandas as pd\n",
        "import plotly.graph_objects as go\n",
        "\n",
        "boston_calendar = pd.read_csv('boston_calendar.csv')\n",
        "seattle_calendar = pd.read_csv('seattle_calendar.csv')"
      ],
      "execution_count": 0,
      "outputs": []
    },
    {
      "cell_type": "code",
      "metadata": {
        "id": "CMikL65YjlSb",
        "colab_type": "code",
        "colab": {}
      },
      "source": [
        "#Function for displaying Pie Chart\n",
        "def pie_chart(labels, values, title):\n",
        "  \"\"\"\n",
        "  This function is used to create a pie chart.\n",
        "\n",
        "  Arguments:\n",
        "      labels: the items that you are graphing\n",
        "      values: the values of the items you are graphing\n",
        "      title: string of title for the pie chart\n",
        "\n",
        "  Returns:\n",
        "      None\n",
        "  \"\"\"\n",
        "  fig = go.Figure(data=[go.Pie(labels=labels, values=values, textinfo='label+percent')])\n",
        "  fig.update_layout(title={'text':title,\n",
        "                          'y':0.9,'x':.61,\n",
        "                          'xanchor': 'right'})\n",
        "  fig.show()"
      ],
      "execution_count": 0,
      "outputs": []
    },
    {
      "cell_type": "markdown",
      "metadata": {
        "id": "ZapmtSnV5ILw",
        "colab_type": "text"
      },
      "source": [
        "##Preparing Data\n",
        "**Assessing Data:**"
      ]
    },
    {
      "cell_type": "code",
      "metadata": {
        "id": "AeCR3mFu8vV4",
        "colab_type": "code",
        "outputId": "07de9b92-41a7-438a-830b-e2a0bb9cd93e",
        "colab": {
          "base_uri": "https://localhost:8080/",
          "height": 173
        }
      },
      "source": [
        "boston_calendar.info()"
      ],
      "execution_count": 134,
      "outputs": [
        {
          "output_type": "stream",
          "text": [
            "<class 'pandas.core.frame.DataFrame'>\n",
            "RangeIndex: 1308890 entries, 0 to 1308889\n",
            "Data columns (total 4 columns):\n",
            "listing_id    1308890 non-null int64\n",
            "date          1308890 non-null object\n",
            "available     1308890 non-null object\n",
            "price         643037 non-null object\n",
            "dtypes: int64(1), object(3)\n",
            "memory usage: 39.9+ MB\n"
          ],
          "name": "stdout"
        }
      ]
    },
    {
      "cell_type": "code",
      "metadata": {
        "id": "3ybo-hEwjHCg",
        "colab_type": "code",
        "outputId": "7e514f26-7fc8-4058-a0ff-3dae6be69fb0",
        "colab": {
          "base_uri": "https://localhost:8080/",
          "height": 173
        }
      },
      "source": [
        "seattle_calendar.info()"
      ],
      "execution_count": 135,
      "outputs": [
        {
          "output_type": "stream",
          "text": [
            "<class 'pandas.core.frame.DataFrame'>\n",
            "RangeIndex: 1393570 entries, 0 to 1393569\n",
            "Data columns (total 4 columns):\n",
            "listing_id    1393570 non-null int64\n",
            "date          1393570 non-null object\n",
            "available     1393570 non-null object\n",
            "price         934542 non-null object\n",
            "dtypes: int64(1), object(3)\n",
            "memory usage: 42.5+ MB\n"
          ],
          "name": "stdout"
        }
      ]
    },
    {
      "cell_type": "code",
      "metadata": {
        "id": "auKrmndr5iYk",
        "colab_type": "code",
        "outputId": "b5430ca9-2a97-42c2-9aae-a7df8aa3ba3c",
        "colab": {
          "base_uri": "https://localhost:8080/",
          "height": 198
        }
      },
      "source": [
        "boston_calendar.head()"
      ],
      "execution_count": 136,
      "outputs": [
        {
          "output_type": "execute_result",
          "data": {
            "text/html": [
              "<div>\n",
              "<style scoped>\n",
              "    .dataframe tbody tr th:only-of-type {\n",
              "        vertical-align: middle;\n",
              "    }\n",
              "\n",
              "    .dataframe tbody tr th {\n",
              "        vertical-align: top;\n",
              "    }\n",
              "\n",
              "    .dataframe thead th {\n",
              "        text-align: right;\n",
              "    }\n",
              "</style>\n",
              "<table border=\"1\" class=\"dataframe\">\n",
              "  <thead>\n",
              "    <tr style=\"text-align: right;\">\n",
              "      <th></th>\n",
              "      <th>listing_id</th>\n",
              "      <th>date</th>\n",
              "      <th>available</th>\n",
              "      <th>price</th>\n",
              "    </tr>\n",
              "  </thead>\n",
              "  <tbody>\n",
              "    <tr>\n",
              "      <th>0</th>\n",
              "      <td>12147973</td>\n",
              "      <td>2017-09-05</td>\n",
              "      <td>f</td>\n",
              "      <td>NaN</td>\n",
              "    </tr>\n",
              "    <tr>\n",
              "      <th>1</th>\n",
              "      <td>12147973</td>\n",
              "      <td>2017-09-04</td>\n",
              "      <td>f</td>\n",
              "      <td>NaN</td>\n",
              "    </tr>\n",
              "    <tr>\n",
              "      <th>2</th>\n",
              "      <td>12147973</td>\n",
              "      <td>2017-09-03</td>\n",
              "      <td>f</td>\n",
              "      <td>NaN</td>\n",
              "    </tr>\n",
              "    <tr>\n",
              "      <th>3</th>\n",
              "      <td>12147973</td>\n",
              "      <td>2017-09-02</td>\n",
              "      <td>f</td>\n",
              "      <td>NaN</td>\n",
              "    </tr>\n",
              "    <tr>\n",
              "      <th>4</th>\n",
              "      <td>12147973</td>\n",
              "      <td>2017-09-01</td>\n",
              "      <td>f</td>\n",
              "      <td>NaN</td>\n",
              "    </tr>\n",
              "  </tbody>\n",
              "</table>\n",
              "</div>"
            ],
            "text/plain": [
              "   listing_id        date available price\n",
              "0    12147973  2017-09-05         f   NaN\n",
              "1    12147973  2017-09-04         f   NaN\n",
              "2    12147973  2017-09-03         f   NaN\n",
              "3    12147973  2017-09-02         f   NaN\n",
              "4    12147973  2017-09-01         f   NaN"
            ]
          },
          "metadata": {
            "tags": []
          },
          "execution_count": 136
        }
      ]
    },
    {
      "cell_type": "markdown",
      "metadata": {
        "id": "XggAsy-k3nA9",
        "colab_type": "text"
      },
      "source": [
        "Result: The data for this one is pretty straight forward. We are only interest in the data where there is availibility, which therefore is associated with a price. "
      ]
    },
    {
      "cell_type": "markdown",
      "metadata": {
        "id": "P5o7_Xwn5v5A",
        "colab_type": "text"
      },
      "source": [
        "**Cleaning Data:**"
      ]
    },
    {
      "cell_type": "code",
      "metadata": {
        "id": "OVNt0Sza81HB",
        "colab_type": "code",
        "outputId": "e7862e57-78d6-4124-a599-7f36ed4e603c",
        "colab": {
          "base_uri": "https://localhost:8080/",
          "height": 407
        }
      },
      "source": [
        "# Add location column to Boston dataframe\n",
        "boston_calendar['location'] = 'Boston'\n",
        "boston_calendar"
      ],
      "execution_count": 137,
      "outputs": [
        {
          "output_type": "execute_result",
          "data": {
            "text/html": [
              "<div>\n",
              "<style scoped>\n",
              "    .dataframe tbody tr th:only-of-type {\n",
              "        vertical-align: middle;\n",
              "    }\n",
              "\n",
              "    .dataframe tbody tr th {\n",
              "        vertical-align: top;\n",
              "    }\n",
              "\n",
              "    .dataframe thead th {\n",
              "        text-align: right;\n",
              "    }\n",
              "</style>\n",
              "<table border=\"1\" class=\"dataframe\">\n",
              "  <thead>\n",
              "    <tr style=\"text-align: right;\">\n",
              "      <th></th>\n",
              "      <th>listing_id</th>\n",
              "      <th>date</th>\n",
              "      <th>available</th>\n",
              "      <th>price</th>\n",
              "      <th>location</th>\n",
              "    </tr>\n",
              "  </thead>\n",
              "  <tbody>\n",
              "    <tr>\n",
              "      <th>0</th>\n",
              "      <td>12147973</td>\n",
              "      <td>2017-09-05</td>\n",
              "      <td>f</td>\n",
              "      <td>NaN</td>\n",
              "      <td>Boston</td>\n",
              "    </tr>\n",
              "    <tr>\n",
              "      <th>1</th>\n",
              "      <td>12147973</td>\n",
              "      <td>2017-09-04</td>\n",
              "      <td>f</td>\n",
              "      <td>NaN</td>\n",
              "      <td>Boston</td>\n",
              "    </tr>\n",
              "    <tr>\n",
              "      <th>2</th>\n",
              "      <td>12147973</td>\n",
              "      <td>2017-09-03</td>\n",
              "      <td>f</td>\n",
              "      <td>NaN</td>\n",
              "      <td>Boston</td>\n",
              "    </tr>\n",
              "    <tr>\n",
              "      <th>3</th>\n",
              "      <td>12147973</td>\n",
              "      <td>2017-09-02</td>\n",
              "      <td>f</td>\n",
              "      <td>NaN</td>\n",
              "      <td>Boston</td>\n",
              "    </tr>\n",
              "    <tr>\n",
              "      <th>4</th>\n",
              "      <td>12147973</td>\n",
              "      <td>2017-09-01</td>\n",
              "      <td>f</td>\n",
              "      <td>NaN</td>\n",
              "      <td>Boston</td>\n",
              "    </tr>\n",
              "    <tr>\n",
              "      <th>...</th>\n",
              "      <td>...</td>\n",
              "      <td>...</td>\n",
              "      <td>...</td>\n",
              "      <td>...</td>\n",
              "      <td>...</td>\n",
              "    </tr>\n",
              "    <tr>\n",
              "      <th>1308885</th>\n",
              "      <td>14504422</td>\n",
              "      <td>2016-09-10</td>\n",
              "      <td>f</td>\n",
              "      <td>NaN</td>\n",
              "      <td>Boston</td>\n",
              "    </tr>\n",
              "    <tr>\n",
              "      <th>1308886</th>\n",
              "      <td>14504422</td>\n",
              "      <td>2016-09-09</td>\n",
              "      <td>f</td>\n",
              "      <td>NaN</td>\n",
              "      <td>Boston</td>\n",
              "    </tr>\n",
              "    <tr>\n",
              "      <th>1308887</th>\n",
              "      <td>14504422</td>\n",
              "      <td>2016-09-08</td>\n",
              "      <td>f</td>\n",
              "      <td>NaN</td>\n",
              "      <td>Boston</td>\n",
              "    </tr>\n",
              "    <tr>\n",
              "      <th>1308888</th>\n",
              "      <td>14504422</td>\n",
              "      <td>2016-09-07</td>\n",
              "      <td>f</td>\n",
              "      <td>NaN</td>\n",
              "      <td>Boston</td>\n",
              "    </tr>\n",
              "    <tr>\n",
              "      <th>1308889</th>\n",
              "      <td>14504422</td>\n",
              "      <td>2016-09-06</td>\n",
              "      <td>f</td>\n",
              "      <td>NaN</td>\n",
              "      <td>Boston</td>\n",
              "    </tr>\n",
              "  </tbody>\n",
              "</table>\n",
              "<p>1308890 rows × 5 columns</p>\n",
              "</div>"
            ],
            "text/plain": [
              "         listing_id        date available price location\n",
              "0          12147973  2017-09-05         f   NaN   Boston\n",
              "1          12147973  2017-09-04         f   NaN   Boston\n",
              "2          12147973  2017-09-03         f   NaN   Boston\n",
              "3          12147973  2017-09-02         f   NaN   Boston\n",
              "4          12147973  2017-09-01         f   NaN   Boston\n",
              "...             ...         ...       ...   ...      ...\n",
              "1308885    14504422  2016-09-10         f   NaN   Boston\n",
              "1308886    14504422  2016-09-09         f   NaN   Boston\n",
              "1308887    14504422  2016-09-08         f   NaN   Boston\n",
              "1308888    14504422  2016-09-07         f   NaN   Boston\n",
              "1308889    14504422  2016-09-06         f   NaN   Boston\n",
              "\n",
              "[1308890 rows x 5 columns]"
            ]
          },
          "metadata": {
            "tags": []
          },
          "execution_count": 137
        }
      ]
    },
    {
      "cell_type": "code",
      "metadata": {
        "id": "Ozov_qX3j_7u",
        "colab_type": "code",
        "outputId": "5cd1a6de-cac3-4478-e33d-b9093d07b450",
        "colab": {
          "base_uri": "https://localhost:8080/",
          "height": 407
        }
      },
      "source": [
        "# Add location column to Seattle dataframe\n",
        "seattle_calendar['location'] = 'Seattle'\n",
        "seattle_calendar"
      ],
      "execution_count": 138,
      "outputs": [
        {
          "output_type": "execute_result",
          "data": {
            "text/html": [
              "<div>\n",
              "<style scoped>\n",
              "    .dataframe tbody tr th:only-of-type {\n",
              "        vertical-align: middle;\n",
              "    }\n",
              "\n",
              "    .dataframe tbody tr th {\n",
              "        vertical-align: top;\n",
              "    }\n",
              "\n",
              "    .dataframe thead th {\n",
              "        text-align: right;\n",
              "    }\n",
              "</style>\n",
              "<table border=\"1\" class=\"dataframe\">\n",
              "  <thead>\n",
              "    <tr style=\"text-align: right;\">\n",
              "      <th></th>\n",
              "      <th>listing_id</th>\n",
              "      <th>date</th>\n",
              "      <th>available</th>\n",
              "      <th>price</th>\n",
              "      <th>location</th>\n",
              "    </tr>\n",
              "  </thead>\n",
              "  <tbody>\n",
              "    <tr>\n",
              "      <th>0</th>\n",
              "      <td>241032</td>\n",
              "      <td>2016-01-04</td>\n",
              "      <td>t</td>\n",
              "      <td>$85.00</td>\n",
              "      <td>Seattle</td>\n",
              "    </tr>\n",
              "    <tr>\n",
              "      <th>1</th>\n",
              "      <td>241032</td>\n",
              "      <td>2016-01-05</td>\n",
              "      <td>t</td>\n",
              "      <td>$85.00</td>\n",
              "      <td>Seattle</td>\n",
              "    </tr>\n",
              "    <tr>\n",
              "      <th>2</th>\n",
              "      <td>241032</td>\n",
              "      <td>2016-01-06</td>\n",
              "      <td>f</td>\n",
              "      <td>NaN</td>\n",
              "      <td>Seattle</td>\n",
              "    </tr>\n",
              "    <tr>\n",
              "      <th>3</th>\n",
              "      <td>241032</td>\n",
              "      <td>2016-01-07</td>\n",
              "      <td>f</td>\n",
              "      <td>NaN</td>\n",
              "      <td>Seattle</td>\n",
              "    </tr>\n",
              "    <tr>\n",
              "      <th>4</th>\n",
              "      <td>241032</td>\n",
              "      <td>2016-01-08</td>\n",
              "      <td>f</td>\n",
              "      <td>NaN</td>\n",
              "      <td>Seattle</td>\n",
              "    </tr>\n",
              "    <tr>\n",
              "      <th>...</th>\n",
              "      <td>...</td>\n",
              "      <td>...</td>\n",
              "      <td>...</td>\n",
              "      <td>...</td>\n",
              "      <td>...</td>\n",
              "    </tr>\n",
              "    <tr>\n",
              "      <th>1393565</th>\n",
              "      <td>10208623</td>\n",
              "      <td>2016-12-29</td>\n",
              "      <td>f</td>\n",
              "      <td>NaN</td>\n",
              "      <td>Seattle</td>\n",
              "    </tr>\n",
              "    <tr>\n",
              "      <th>1393566</th>\n",
              "      <td>10208623</td>\n",
              "      <td>2016-12-30</td>\n",
              "      <td>f</td>\n",
              "      <td>NaN</td>\n",
              "      <td>Seattle</td>\n",
              "    </tr>\n",
              "    <tr>\n",
              "      <th>1393567</th>\n",
              "      <td>10208623</td>\n",
              "      <td>2016-12-31</td>\n",
              "      <td>f</td>\n",
              "      <td>NaN</td>\n",
              "      <td>Seattle</td>\n",
              "    </tr>\n",
              "    <tr>\n",
              "      <th>1393568</th>\n",
              "      <td>10208623</td>\n",
              "      <td>2017-01-01</td>\n",
              "      <td>f</td>\n",
              "      <td>NaN</td>\n",
              "      <td>Seattle</td>\n",
              "    </tr>\n",
              "    <tr>\n",
              "      <th>1393569</th>\n",
              "      <td>10208623</td>\n",
              "      <td>2017-01-02</td>\n",
              "      <td>f</td>\n",
              "      <td>NaN</td>\n",
              "      <td>Seattle</td>\n",
              "    </tr>\n",
              "  </tbody>\n",
              "</table>\n",
              "<p>1393570 rows × 5 columns</p>\n",
              "</div>"
            ],
            "text/plain": [
              "         listing_id        date available   price location\n",
              "0            241032  2016-01-04         t  $85.00  Seattle\n",
              "1            241032  2016-01-05         t  $85.00  Seattle\n",
              "2            241032  2016-01-06         f     NaN  Seattle\n",
              "3            241032  2016-01-07         f     NaN  Seattle\n",
              "4            241032  2016-01-08         f     NaN  Seattle\n",
              "...             ...         ...       ...     ...      ...\n",
              "1393565    10208623  2016-12-29         f     NaN  Seattle\n",
              "1393566    10208623  2016-12-30         f     NaN  Seattle\n",
              "1393567    10208623  2016-12-31         f     NaN  Seattle\n",
              "1393568    10208623  2017-01-01         f     NaN  Seattle\n",
              "1393569    10208623  2017-01-02         f     NaN  Seattle\n",
              "\n",
              "[1393570 rows x 5 columns]"
            ]
          },
          "metadata": {
            "tags": []
          },
          "execution_count": 138
        }
      ]
    },
    {
      "cell_type": "code",
      "metadata": {
        "id": "FtL7UdjAkXWq",
        "colab_type": "code",
        "outputId": "e44e0f54-bc48-49c4-d8de-743773912d64",
        "colab": {
          "base_uri": "https://localhost:8080/",
          "height": 407
        }
      },
      "source": [
        "# Append both calendars together into one dataframe\n",
        "calendar = boston_calendar.append(seattle_calendar)\n",
        "calendar"
      ],
      "execution_count": 139,
      "outputs": [
        {
          "output_type": "execute_result",
          "data": {
            "text/html": [
              "<div>\n",
              "<style scoped>\n",
              "    .dataframe tbody tr th:only-of-type {\n",
              "        vertical-align: middle;\n",
              "    }\n",
              "\n",
              "    .dataframe tbody tr th {\n",
              "        vertical-align: top;\n",
              "    }\n",
              "\n",
              "    .dataframe thead th {\n",
              "        text-align: right;\n",
              "    }\n",
              "</style>\n",
              "<table border=\"1\" class=\"dataframe\">\n",
              "  <thead>\n",
              "    <tr style=\"text-align: right;\">\n",
              "      <th></th>\n",
              "      <th>listing_id</th>\n",
              "      <th>date</th>\n",
              "      <th>available</th>\n",
              "      <th>price</th>\n",
              "      <th>location</th>\n",
              "    </tr>\n",
              "  </thead>\n",
              "  <tbody>\n",
              "    <tr>\n",
              "      <th>0</th>\n",
              "      <td>12147973</td>\n",
              "      <td>2017-09-05</td>\n",
              "      <td>f</td>\n",
              "      <td>NaN</td>\n",
              "      <td>Boston</td>\n",
              "    </tr>\n",
              "    <tr>\n",
              "      <th>1</th>\n",
              "      <td>12147973</td>\n",
              "      <td>2017-09-04</td>\n",
              "      <td>f</td>\n",
              "      <td>NaN</td>\n",
              "      <td>Boston</td>\n",
              "    </tr>\n",
              "    <tr>\n",
              "      <th>2</th>\n",
              "      <td>12147973</td>\n",
              "      <td>2017-09-03</td>\n",
              "      <td>f</td>\n",
              "      <td>NaN</td>\n",
              "      <td>Boston</td>\n",
              "    </tr>\n",
              "    <tr>\n",
              "      <th>3</th>\n",
              "      <td>12147973</td>\n",
              "      <td>2017-09-02</td>\n",
              "      <td>f</td>\n",
              "      <td>NaN</td>\n",
              "      <td>Boston</td>\n",
              "    </tr>\n",
              "    <tr>\n",
              "      <th>4</th>\n",
              "      <td>12147973</td>\n",
              "      <td>2017-09-01</td>\n",
              "      <td>f</td>\n",
              "      <td>NaN</td>\n",
              "      <td>Boston</td>\n",
              "    </tr>\n",
              "    <tr>\n",
              "      <th>...</th>\n",
              "      <td>...</td>\n",
              "      <td>...</td>\n",
              "      <td>...</td>\n",
              "      <td>...</td>\n",
              "      <td>...</td>\n",
              "    </tr>\n",
              "    <tr>\n",
              "      <th>1393565</th>\n",
              "      <td>10208623</td>\n",
              "      <td>2016-12-29</td>\n",
              "      <td>f</td>\n",
              "      <td>NaN</td>\n",
              "      <td>Seattle</td>\n",
              "    </tr>\n",
              "    <tr>\n",
              "      <th>1393566</th>\n",
              "      <td>10208623</td>\n",
              "      <td>2016-12-30</td>\n",
              "      <td>f</td>\n",
              "      <td>NaN</td>\n",
              "      <td>Seattle</td>\n",
              "    </tr>\n",
              "    <tr>\n",
              "      <th>1393567</th>\n",
              "      <td>10208623</td>\n",
              "      <td>2016-12-31</td>\n",
              "      <td>f</td>\n",
              "      <td>NaN</td>\n",
              "      <td>Seattle</td>\n",
              "    </tr>\n",
              "    <tr>\n",
              "      <th>1393568</th>\n",
              "      <td>10208623</td>\n",
              "      <td>2017-01-01</td>\n",
              "      <td>f</td>\n",
              "      <td>NaN</td>\n",
              "      <td>Seattle</td>\n",
              "    </tr>\n",
              "    <tr>\n",
              "      <th>1393569</th>\n",
              "      <td>10208623</td>\n",
              "      <td>2017-01-02</td>\n",
              "      <td>f</td>\n",
              "      <td>NaN</td>\n",
              "      <td>Seattle</td>\n",
              "    </tr>\n",
              "  </tbody>\n",
              "</table>\n",
              "<p>2702460 rows × 5 columns</p>\n",
              "</div>"
            ],
            "text/plain": [
              "         listing_id        date available price location\n",
              "0          12147973  2017-09-05         f   NaN   Boston\n",
              "1          12147973  2017-09-04         f   NaN   Boston\n",
              "2          12147973  2017-09-03         f   NaN   Boston\n",
              "3          12147973  2017-09-02         f   NaN   Boston\n",
              "4          12147973  2017-09-01         f   NaN   Boston\n",
              "...             ...         ...       ...   ...      ...\n",
              "1393565    10208623  2016-12-29         f   NaN  Seattle\n",
              "1393566    10208623  2016-12-30         f   NaN  Seattle\n",
              "1393567    10208623  2016-12-31         f   NaN  Seattle\n",
              "1393568    10208623  2017-01-01         f   NaN  Seattle\n",
              "1393569    10208623  2017-01-02         f   NaN  Seattle\n",
              "\n",
              "[2702460 rows x 5 columns]"
            ]
          },
          "metadata": {
            "tags": []
          },
          "execution_count": 139
        }
      ]
    },
    {
      "cell_type": "code",
      "metadata": {
        "id": "q7TiZHIw9EOy",
        "colab_type": "code",
        "outputId": "a3f39ef6-34e7-4b73-9d1b-7348bf24ef7c",
        "colab": {
          "base_uri": "https://localhost:8080/",
          "height": 407
        }
      },
      "source": [
        "# Create month column from date\n",
        "calendar['month'] = pd.DatetimeIndex(calendar['date']).month\n",
        "calendar"
      ],
      "execution_count": 140,
      "outputs": [
        {
          "output_type": "execute_result",
          "data": {
            "text/html": [
              "<div>\n",
              "<style scoped>\n",
              "    .dataframe tbody tr th:only-of-type {\n",
              "        vertical-align: middle;\n",
              "    }\n",
              "\n",
              "    .dataframe tbody tr th {\n",
              "        vertical-align: top;\n",
              "    }\n",
              "\n",
              "    .dataframe thead th {\n",
              "        text-align: right;\n",
              "    }\n",
              "</style>\n",
              "<table border=\"1\" class=\"dataframe\">\n",
              "  <thead>\n",
              "    <tr style=\"text-align: right;\">\n",
              "      <th></th>\n",
              "      <th>listing_id</th>\n",
              "      <th>date</th>\n",
              "      <th>available</th>\n",
              "      <th>price</th>\n",
              "      <th>location</th>\n",
              "      <th>month</th>\n",
              "    </tr>\n",
              "  </thead>\n",
              "  <tbody>\n",
              "    <tr>\n",
              "      <th>0</th>\n",
              "      <td>12147973</td>\n",
              "      <td>2017-09-05</td>\n",
              "      <td>f</td>\n",
              "      <td>NaN</td>\n",
              "      <td>Boston</td>\n",
              "      <td>9</td>\n",
              "    </tr>\n",
              "    <tr>\n",
              "      <th>1</th>\n",
              "      <td>12147973</td>\n",
              "      <td>2017-09-04</td>\n",
              "      <td>f</td>\n",
              "      <td>NaN</td>\n",
              "      <td>Boston</td>\n",
              "      <td>9</td>\n",
              "    </tr>\n",
              "    <tr>\n",
              "      <th>2</th>\n",
              "      <td>12147973</td>\n",
              "      <td>2017-09-03</td>\n",
              "      <td>f</td>\n",
              "      <td>NaN</td>\n",
              "      <td>Boston</td>\n",
              "      <td>9</td>\n",
              "    </tr>\n",
              "    <tr>\n",
              "      <th>3</th>\n",
              "      <td>12147973</td>\n",
              "      <td>2017-09-02</td>\n",
              "      <td>f</td>\n",
              "      <td>NaN</td>\n",
              "      <td>Boston</td>\n",
              "      <td>9</td>\n",
              "    </tr>\n",
              "    <tr>\n",
              "      <th>4</th>\n",
              "      <td>12147973</td>\n",
              "      <td>2017-09-01</td>\n",
              "      <td>f</td>\n",
              "      <td>NaN</td>\n",
              "      <td>Boston</td>\n",
              "      <td>9</td>\n",
              "    </tr>\n",
              "    <tr>\n",
              "      <th>...</th>\n",
              "      <td>...</td>\n",
              "      <td>...</td>\n",
              "      <td>...</td>\n",
              "      <td>...</td>\n",
              "      <td>...</td>\n",
              "      <td>...</td>\n",
              "    </tr>\n",
              "    <tr>\n",
              "      <th>1393565</th>\n",
              "      <td>10208623</td>\n",
              "      <td>2016-12-29</td>\n",
              "      <td>f</td>\n",
              "      <td>NaN</td>\n",
              "      <td>Seattle</td>\n",
              "      <td>12</td>\n",
              "    </tr>\n",
              "    <tr>\n",
              "      <th>1393566</th>\n",
              "      <td>10208623</td>\n",
              "      <td>2016-12-30</td>\n",
              "      <td>f</td>\n",
              "      <td>NaN</td>\n",
              "      <td>Seattle</td>\n",
              "      <td>12</td>\n",
              "    </tr>\n",
              "    <tr>\n",
              "      <th>1393567</th>\n",
              "      <td>10208623</td>\n",
              "      <td>2016-12-31</td>\n",
              "      <td>f</td>\n",
              "      <td>NaN</td>\n",
              "      <td>Seattle</td>\n",
              "      <td>12</td>\n",
              "    </tr>\n",
              "    <tr>\n",
              "      <th>1393568</th>\n",
              "      <td>10208623</td>\n",
              "      <td>2017-01-01</td>\n",
              "      <td>f</td>\n",
              "      <td>NaN</td>\n",
              "      <td>Seattle</td>\n",
              "      <td>1</td>\n",
              "    </tr>\n",
              "    <tr>\n",
              "      <th>1393569</th>\n",
              "      <td>10208623</td>\n",
              "      <td>2017-01-02</td>\n",
              "      <td>f</td>\n",
              "      <td>NaN</td>\n",
              "      <td>Seattle</td>\n",
              "      <td>1</td>\n",
              "    </tr>\n",
              "  </tbody>\n",
              "</table>\n",
              "<p>2702460 rows × 6 columns</p>\n",
              "</div>"
            ],
            "text/plain": [
              "         listing_id        date available price location  month\n",
              "0          12147973  2017-09-05         f   NaN   Boston      9\n",
              "1          12147973  2017-09-04         f   NaN   Boston      9\n",
              "2          12147973  2017-09-03         f   NaN   Boston      9\n",
              "3          12147973  2017-09-02         f   NaN   Boston      9\n",
              "4          12147973  2017-09-01         f   NaN   Boston      9\n",
              "...             ...         ...       ...   ...      ...    ...\n",
              "1393565    10208623  2016-12-29         f   NaN  Seattle     12\n",
              "1393566    10208623  2016-12-30         f   NaN  Seattle     12\n",
              "1393567    10208623  2016-12-31         f   NaN  Seattle     12\n",
              "1393568    10208623  2017-01-01         f   NaN  Seattle      1\n",
              "1393569    10208623  2017-01-02         f   NaN  Seattle      1\n",
              "\n",
              "[2702460 rows x 6 columns]"
            ]
          },
          "metadata": {
            "tags": []
          },
          "execution_count": 140
        }
      ]
    },
    {
      "cell_type": "code",
      "metadata": {
        "id": "eZxTe5qCc-px",
        "colab_type": "code",
        "colab": {}
      },
      "source": [
        "# Remove all symbols from price\n",
        "calendar['price'] = calendar['price'].str.replace(r'\\D', '')"
      ],
      "execution_count": 0,
      "outputs": []
    },
    {
      "cell_type": "code",
      "metadata": {
        "id": "Wh73ySBM9cOq",
        "colab_type": "code",
        "outputId": "345e659d-1692-4128-82b5-7817b809525b",
        "colab": {
          "base_uri": "https://localhost:8080/",
          "height": 407
        }
      },
      "source": [
        "# Drop all nan since they were not listed and convert price to int\n",
        "calendar.dropna(axis=0, subset=['price'], inplace=True)\n",
        "calendar['price'] = calendar['price'].astype(int)\n",
        "calendar"
      ],
      "execution_count": 142,
      "outputs": [
        {
          "output_type": "execute_result",
          "data": {
            "text/html": [
              "<div>\n",
              "<style scoped>\n",
              "    .dataframe tbody tr th:only-of-type {\n",
              "        vertical-align: middle;\n",
              "    }\n",
              "\n",
              "    .dataframe tbody tr th {\n",
              "        vertical-align: top;\n",
              "    }\n",
              "\n",
              "    .dataframe thead th {\n",
              "        text-align: right;\n",
              "    }\n",
              "</style>\n",
              "<table border=\"1\" class=\"dataframe\">\n",
              "  <thead>\n",
              "    <tr style=\"text-align: right;\">\n",
              "      <th></th>\n",
              "      <th>listing_id</th>\n",
              "      <th>date</th>\n",
              "      <th>available</th>\n",
              "      <th>price</th>\n",
              "      <th>location</th>\n",
              "      <th>month</th>\n",
              "    </tr>\n",
              "  </thead>\n",
              "  <tbody>\n",
              "    <tr>\n",
              "      <th>365</th>\n",
              "      <td>3075044</td>\n",
              "      <td>2017-08-22</td>\n",
              "      <td>t</td>\n",
              "      <td>6500</td>\n",
              "      <td>Boston</td>\n",
              "      <td>8</td>\n",
              "    </tr>\n",
              "    <tr>\n",
              "      <th>366</th>\n",
              "      <td>3075044</td>\n",
              "      <td>2017-08-21</td>\n",
              "      <td>t</td>\n",
              "      <td>6500</td>\n",
              "      <td>Boston</td>\n",
              "      <td>8</td>\n",
              "    </tr>\n",
              "    <tr>\n",
              "      <th>367</th>\n",
              "      <td>3075044</td>\n",
              "      <td>2017-08-20</td>\n",
              "      <td>t</td>\n",
              "      <td>6500</td>\n",
              "      <td>Boston</td>\n",
              "      <td>8</td>\n",
              "    </tr>\n",
              "    <tr>\n",
              "      <th>368</th>\n",
              "      <td>3075044</td>\n",
              "      <td>2017-08-19</td>\n",
              "      <td>t</td>\n",
              "      <td>7500</td>\n",
              "      <td>Boston</td>\n",
              "      <td>8</td>\n",
              "    </tr>\n",
              "    <tr>\n",
              "      <th>369</th>\n",
              "      <td>3075044</td>\n",
              "      <td>2017-08-18</td>\n",
              "      <td>t</td>\n",
              "      <td>7500</td>\n",
              "      <td>Boston</td>\n",
              "      <td>8</td>\n",
              "    </tr>\n",
              "    <tr>\n",
              "      <th>...</th>\n",
              "      <td>...</td>\n",
              "      <td>...</td>\n",
              "      <td>...</td>\n",
              "      <td>...</td>\n",
              "      <td>...</td>\n",
              "      <td>...</td>\n",
              "    </tr>\n",
              "    <tr>\n",
              "      <th>1393207</th>\n",
              "      <td>10208623</td>\n",
              "      <td>2016-01-06</td>\n",
              "      <td>t</td>\n",
              "      <td>8700</td>\n",
              "      <td>Seattle</td>\n",
              "      <td>1</td>\n",
              "    </tr>\n",
              "    <tr>\n",
              "      <th>1393208</th>\n",
              "      <td>10208623</td>\n",
              "      <td>2016-01-07</td>\n",
              "      <td>t</td>\n",
              "      <td>8700</td>\n",
              "      <td>Seattle</td>\n",
              "      <td>1</td>\n",
              "    </tr>\n",
              "    <tr>\n",
              "      <th>1393211</th>\n",
              "      <td>10208623</td>\n",
              "      <td>2016-01-10</td>\n",
              "      <td>t</td>\n",
              "      <td>8700</td>\n",
              "      <td>Seattle</td>\n",
              "      <td>1</td>\n",
              "    </tr>\n",
              "    <tr>\n",
              "      <th>1393212</th>\n",
              "      <td>10208623</td>\n",
              "      <td>2016-01-11</td>\n",
              "      <td>t</td>\n",
              "      <td>8700</td>\n",
              "      <td>Seattle</td>\n",
              "      <td>1</td>\n",
              "    </tr>\n",
              "    <tr>\n",
              "      <th>1393213</th>\n",
              "      <td>10208623</td>\n",
              "      <td>2016-01-12</td>\n",
              "      <td>t</td>\n",
              "      <td>8700</td>\n",
              "      <td>Seattle</td>\n",
              "      <td>1</td>\n",
              "    </tr>\n",
              "  </tbody>\n",
              "</table>\n",
              "<p>1577579 rows × 6 columns</p>\n",
              "</div>"
            ],
            "text/plain": [
              "         listing_id        date available  price location  month\n",
              "365         3075044  2017-08-22         t   6500   Boston      8\n",
              "366         3075044  2017-08-21         t   6500   Boston      8\n",
              "367         3075044  2017-08-20         t   6500   Boston      8\n",
              "368         3075044  2017-08-19         t   7500   Boston      8\n",
              "369         3075044  2017-08-18         t   7500   Boston      8\n",
              "...             ...         ...       ...    ...      ...    ...\n",
              "1393207    10208623  2016-01-06         t   8700  Seattle      1\n",
              "1393208    10208623  2016-01-07         t   8700  Seattle      1\n",
              "1393211    10208623  2016-01-10         t   8700  Seattle      1\n",
              "1393212    10208623  2016-01-11         t   8700  Seattle      1\n",
              "1393213    10208623  2016-01-12         t   8700  Seattle      1\n",
              "\n",
              "[1577579 rows x 6 columns]"
            ]
          },
          "metadata": {
            "tags": []
          },
          "execution_count": 142
        }
      ]
    },
    {
      "cell_type": "code",
      "metadata": {
        "id": "yLZy_VEsRyVW",
        "colab_type": "code",
        "outputId": "7b52439f-73bd-4dec-d420-0dcb90ac9429",
        "colab": {
          "base_uri": "https://localhost:8080/",
          "height": 407
        }
      },
      "source": [
        "# Divide by 100 to convert cents to dollar\n",
        "calendar['price'] = calendar['price'] / 100\n",
        "calendar"
      ],
      "execution_count": 143,
      "outputs": [
        {
          "output_type": "execute_result",
          "data": {
            "text/html": [
              "<div>\n",
              "<style scoped>\n",
              "    .dataframe tbody tr th:only-of-type {\n",
              "        vertical-align: middle;\n",
              "    }\n",
              "\n",
              "    .dataframe tbody tr th {\n",
              "        vertical-align: top;\n",
              "    }\n",
              "\n",
              "    .dataframe thead th {\n",
              "        text-align: right;\n",
              "    }\n",
              "</style>\n",
              "<table border=\"1\" class=\"dataframe\">\n",
              "  <thead>\n",
              "    <tr style=\"text-align: right;\">\n",
              "      <th></th>\n",
              "      <th>listing_id</th>\n",
              "      <th>date</th>\n",
              "      <th>available</th>\n",
              "      <th>price</th>\n",
              "      <th>location</th>\n",
              "      <th>month</th>\n",
              "    </tr>\n",
              "  </thead>\n",
              "  <tbody>\n",
              "    <tr>\n",
              "      <th>365</th>\n",
              "      <td>3075044</td>\n",
              "      <td>2017-08-22</td>\n",
              "      <td>t</td>\n",
              "      <td>65.0</td>\n",
              "      <td>Boston</td>\n",
              "      <td>8</td>\n",
              "    </tr>\n",
              "    <tr>\n",
              "      <th>366</th>\n",
              "      <td>3075044</td>\n",
              "      <td>2017-08-21</td>\n",
              "      <td>t</td>\n",
              "      <td>65.0</td>\n",
              "      <td>Boston</td>\n",
              "      <td>8</td>\n",
              "    </tr>\n",
              "    <tr>\n",
              "      <th>367</th>\n",
              "      <td>3075044</td>\n",
              "      <td>2017-08-20</td>\n",
              "      <td>t</td>\n",
              "      <td>65.0</td>\n",
              "      <td>Boston</td>\n",
              "      <td>8</td>\n",
              "    </tr>\n",
              "    <tr>\n",
              "      <th>368</th>\n",
              "      <td>3075044</td>\n",
              "      <td>2017-08-19</td>\n",
              "      <td>t</td>\n",
              "      <td>75.0</td>\n",
              "      <td>Boston</td>\n",
              "      <td>8</td>\n",
              "    </tr>\n",
              "    <tr>\n",
              "      <th>369</th>\n",
              "      <td>3075044</td>\n",
              "      <td>2017-08-18</td>\n",
              "      <td>t</td>\n",
              "      <td>75.0</td>\n",
              "      <td>Boston</td>\n",
              "      <td>8</td>\n",
              "    </tr>\n",
              "    <tr>\n",
              "      <th>...</th>\n",
              "      <td>...</td>\n",
              "      <td>...</td>\n",
              "      <td>...</td>\n",
              "      <td>...</td>\n",
              "      <td>...</td>\n",
              "      <td>...</td>\n",
              "    </tr>\n",
              "    <tr>\n",
              "      <th>1393207</th>\n",
              "      <td>10208623</td>\n",
              "      <td>2016-01-06</td>\n",
              "      <td>t</td>\n",
              "      <td>87.0</td>\n",
              "      <td>Seattle</td>\n",
              "      <td>1</td>\n",
              "    </tr>\n",
              "    <tr>\n",
              "      <th>1393208</th>\n",
              "      <td>10208623</td>\n",
              "      <td>2016-01-07</td>\n",
              "      <td>t</td>\n",
              "      <td>87.0</td>\n",
              "      <td>Seattle</td>\n",
              "      <td>1</td>\n",
              "    </tr>\n",
              "    <tr>\n",
              "      <th>1393211</th>\n",
              "      <td>10208623</td>\n",
              "      <td>2016-01-10</td>\n",
              "      <td>t</td>\n",
              "      <td>87.0</td>\n",
              "      <td>Seattle</td>\n",
              "      <td>1</td>\n",
              "    </tr>\n",
              "    <tr>\n",
              "      <th>1393212</th>\n",
              "      <td>10208623</td>\n",
              "      <td>2016-01-11</td>\n",
              "      <td>t</td>\n",
              "      <td>87.0</td>\n",
              "      <td>Seattle</td>\n",
              "      <td>1</td>\n",
              "    </tr>\n",
              "    <tr>\n",
              "      <th>1393213</th>\n",
              "      <td>10208623</td>\n",
              "      <td>2016-01-12</td>\n",
              "      <td>t</td>\n",
              "      <td>87.0</td>\n",
              "      <td>Seattle</td>\n",
              "      <td>1</td>\n",
              "    </tr>\n",
              "  </tbody>\n",
              "</table>\n",
              "<p>1577579 rows × 6 columns</p>\n",
              "</div>"
            ],
            "text/plain": [
              "         listing_id        date available  price location  month\n",
              "365         3075044  2017-08-22         t   65.0   Boston      8\n",
              "366         3075044  2017-08-21         t   65.0   Boston      8\n",
              "367         3075044  2017-08-20         t   65.0   Boston      8\n",
              "368         3075044  2017-08-19         t   75.0   Boston      8\n",
              "369         3075044  2017-08-18         t   75.0   Boston      8\n",
              "...             ...         ...       ...    ...      ...    ...\n",
              "1393207    10208623  2016-01-06         t   87.0  Seattle      1\n",
              "1393208    10208623  2016-01-07         t   87.0  Seattle      1\n",
              "1393211    10208623  2016-01-10         t   87.0  Seattle      1\n",
              "1393212    10208623  2016-01-11         t   87.0  Seattle      1\n",
              "1393213    10208623  2016-01-12         t   87.0  Seattle      1\n",
              "\n",
              "[1577579 rows x 6 columns]"
            ]
          },
          "metadata": {
            "tags": []
          },
          "execution_count": 143
        }
      ]
    },
    {
      "cell_type": "code",
      "metadata": {
        "id": "cQJIVJcPes17",
        "colab_type": "code",
        "colab": {}
      },
      "source": [
        "# Find average price of listing per month for both locations\n",
        "seattle_month_price = calendar[calendar['location']== 'Seattle'].groupby('month')['price'].mean()\n",
        "boston_month_price = calendar[calendar['location']== 'Boston'].groupby('month')['price'].mean()"
      ],
      "execution_count": 0,
      "outputs": []
    },
    {
      "cell_type": "code",
      "metadata": {
        "id": "X70rbeJRf30y",
        "colab_type": "code",
        "outputId": "b77d3f0f-55e4-4c64-c1cc-ed396b723b23",
        "colab": {
          "base_uri": "https://localhost:8080/",
          "height": 259
        }
      },
      "source": [
        "seattle_month_price"
      ],
      "execution_count": 145,
      "outputs": [
        {
          "output_type": "execute_result",
          "data": {
            "text/plain": [
              "month\n",
              "1     122.912176\n",
              "2     124.293927\n",
              "3     128.644488\n",
              "4     135.097005\n",
              "5     139.538183\n",
              "6     147.473137\n",
              "7     152.094150\n",
              "8     150.656594\n",
              "9     143.255949\n",
              "10    137.031939\n",
              "11    135.688738\n",
              "12    137.251835\n",
              "Name: price, dtype: float64"
            ]
          },
          "metadata": {
            "tags": []
          },
          "execution_count": 145
        }
      ]
    },
    {
      "cell_type": "code",
      "metadata": {
        "id": "rJvvf0qThTeO",
        "colab_type": "code",
        "outputId": "e2dc1a76-3330-4fd5-c3e0-a9f1e8ce87a3",
        "colab": {
          "base_uri": "https://localhost:8080/",
          "height": 259
        }
      },
      "source": [
        "boston_month_price"
      ],
      "execution_count": 146,
      "outputs": [
        {
          "output_type": "execute_result",
          "data": {
            "text/plain": [
              "month\n",
              "1     182.799671\n",
              "2     180.961028\n",
              "3     181.818742\n",
              "4     197.252890\n",
              "5     193.712295\n",
              "6     196.535302\n",
              "7     202.486309\n",
              "8     203.330142\n",
              "9     237.047727\n",
              "10    233.416248\n",
              "11    202.924416\n",
              "12    192.601915\n",
              "Name: price, dtype: float64"
            ]
          },
          "metadata": {
            "tags": []
          },
          "execution_count": 146
        }
      ]
    },
    {
      "cell_type": "markdown",
      "metadata": {
        "id": "XQ12tpKUHmWv",
        "colab_type": "text"
      },
      "source": [
        "##Data Modeling:"
      ]
    },
    {
      "cell_type": "code",
      "metadata": {
        "id": "-EvLKRdXfOY9",
        "colab_type": "code",
        "outputId": "69f0c878-fa71-4e7e-889f-c863eab18984",
        "colab": {
          "base_uri": "https://localhost:8080/",
          "height": 282
        }
      },
      "source": [
        "pd.concat({\n",
        "    'Seattle': seattle_month_price, 'Boston': boston_month_price\n",
        "}, axis=1).plot.bar();"
      ],
      "execution_count": 147,
      "outputs": [
        {
          "output_type": "display_data",
          "data": {
            "image/png": "[encoded data removed]",
            "text/plain": [
              "<Figure size 432x288 with 1 Axes>"
            ]
          },
          "metadata": {
            "tags": []
          }
        }
      ]
    },
    {
      "cell_type": "markdown",
      "metadata": {
        "id": "5UOeddgUsGgS",
        "colab_type": "text"
      },
      "source": [
        "##Evaluate Results <br>\n",
        "Price flucuates through the year for both locations.\n",
        "\n",
        "For Seattle, the winter months of Jan and Feb are the least profitable, while the summer months of June through August are the most profitable. Seattle lowest average price is &dollar;123 per listing in January and a high of &dollar;152 per listing in July.\n",
        "\n",
        "For Boston, the winter months of Jan to Feb are the least profitable, while the fall months of Sept through Oct are the most profitable. Boston lowest average price is &dollar;182 per listing in Feburary and &dollar;237 per listing in September."
      ]
    },
    {
      "cell_type": "markdown",
      "metadata": {
        "id": "JKlJcaWwH1J6",
        "colab_type": "text"
      },
      "source": [
        "##Deploy\n",
        "In making a financial business decision of when to list a property, it is recommended to list during peak season, which is July in Seattle and September in Boston."
      ]
    },
    {
      "cell_type": "markdown",
      "metadata": {
        "id": "Ek2CA8k1xafD",
        "colab_type": "text"
      },
      "source": [
        "#CRISP-DM\n",
        "**Business Understanding** <br>\n",
        "#Question 2: <br>\n",
        "What percentage of the different types of listing on AirBnB?  Is there a property type that needs business focus?"
      ]
    },
    {
      "cell_type": "markdown",
      "metadata": {
        "id": "baa0JURO7M0N",
        "colab_type": "text"
      },
      "source": [
        "##Data Understanding\n",
        "**Gathering Data:**"
      ]
    },
    {
      "cell_type": "code",
      "metadata": {
        "id": "yTWITS-9xrUp",
        "colab_type": "code",
        "colab": {}
      },
      "source": [
        "seattle_listing = pd.read_csv('seattle_listings.csv')\n",
        "boston_listing = pd.read_csv('boston_listings.csv')"
      ],
      "execution_count": 0,
      "outputs": []
    },
    {
      "cell_type": "markdown",
      "metadata": {
        "id": "omAb9pqO7Yae",
        "colab_type": "text"
      },
      "source": [
        "##Preparing Data\n",
        "**Assessing Data:**"
      ]
    },
    {
      "cell_type": "code",
      "metadata": {
        "id": "wWs1Gf3i7b4i",
        "colab_type": "code",
        "outputId": "46e4d8fe-cdaf-4d49-caf0-7e3272bb7d66",
        "colab": {
          "base_uri": "https://localhost:8080/",
          "height": 1000
        }
      },
      "source": [
        "seattle_listing.info()"
      ],
      "execution_count": 149,
      "outputs": [
        {
          "output_type": "stream",
          "text": [
            "<class 'pandas.core.frame.DataFrame'>\n",
            "RangeIndex: 3818 entries, 0 to 3817\n",
            "Data columns (total 92 columns):\n",
            "id                                  3818 non-null int64\n",
            "listing_url                         3818 non-null object\n",
            "scrape_id                           3818 non-null int64\n",
            "last_scraped                        3818 non-null object\n",
            "name                                3818 non-null object\n",
            "summary                             3641 non-null object\n",
            "space                               3249 non-null object\n",
            "description                         3818 non-null object\n",
            "experiences_offered                 3818 non-null object\n",
            "neighborhood_overview               2786 non-null object\n",
            "notes                               2212 non-null object\n",
            "transit                             2884 non-null object\n",
            "thumbnail_url                       3498 non-null object\n",
            "medium_url                          3498 non-null object\n",
            "picture_url                         3818 non-null object\n",
            "xl_picture_url                      3498 non-null object\n",
            "host_id                             3818 non-null int64\n",
            "host_url                            3818 non-null object\n",
            "host_name                           3816 non-null object\n",
            "host_since                          3816 non-null object\n",
            "host_location                       3810 non-null object\n",
            "host_about                          2959 non-null object\n",
            "host_response_time                  3295 non-null object\n",
            "host_response_rate                  3295 non-null object\n",
            "host_acceptance_rate                3045 non-null object\n",
            "host_is_superhost                   3816 non-null object\n",
            "host_thumbnail_url                  3816 non-null object\n",
            "host_picture_url                    3816 non-null object\n",
            "host_neighbourhood                  3518 non-null object\n",
            "host_listings_count                 3816 non-null float64\n",
            "host_total_listings_count           3816 non-null float64\n",
            "host_verifications                  3818 non-null object\n",
            "host_has_profile_pic                3816 non-null object\n",
            "host_identity_verified              3816 non-null object\n",
            "street                              3818 non-null object\n",
            "neighbourhood                       3402 non-null object\n",
            "neighbourhood_cleansed              3818 non-null object\n",
            "neighbourhood_group_cleansed        3818 non-null object\n",
            "city                                3818 non-null object\n",
            "state                               3818 non-null object\n",
            "zipcode                             3811 non-null object\n",
            "market                              3818 non-null object\n",
            "smart_location                      3818 non-null object\n",
            "country_code                        3818 non-null object\n",
            "country                             3818 non-null object\n",
            "latitude                            3818 non-null float64\n",
            "longitude                           3818 non-null float64\n",
            "is_location_exact                   3818 non-null object\n",
            "property_type                       3817 non-null object\n",
            "room_type                           3818 non-null object\n",
            "accommodates                        3818 non-null int64\n",
            "bathrooms                           3802 non-null float64\n",
            "bedrooms                            3812 non-null float64\n",
            "beds                                3817 non-null float64\n",
            "bed_type                            3818 non-null object\n",
            "amenities                           3818 non-null object\n",
            "square_feet                         97 non-null float64\n",
            "price                               3818 non-null object\n",
            "weekly_price                        2009 non-null object\n",
            "monthly_price                       1517 non-null object\n",
            "security_deposit                    1866 non-null object\n",
            "cleaning_fee                        2788 non-null object\n",
            "guests_included                     3818 non-null int64\n",
            "extra_people                        3818 non-null object\n",
            "minimum_nights                      3818 non-null int64\n",
            "maximum_nights                      3818 non-null int64\n",
            "calendar_updated                    3818 non-null object\n",
            "has_availability                    3818 non-null object\n",
            "availability_30                     3818 non-null int64\n",
            "availability_60                     3818 non-null int64\n",
            "availability_90                     3818 non-null int64\n",
            "availability_365                    3818 non-null int64\n",
            "calendar_last_scraped               3818 non-null object\n",
            "number_of_reviews                   3818 non-null int64\n",
            "first_review                        3191 non-null object\n",
            "last_review                         3191 non-null object\n",
            "review_scores_rating                3171 non-null float64\n",
            "review_scores_accuracy              3160 non-null float64\n",
            "review_scores_cleanliness           3165 non-null float64\n",
            "review_scores_checkin               3160 non-null float64\n",
            "review_scores_communication         3167 non-null float64\n",
            "review_scores_location              3163 non-null float64\n",
            "review_scores_value                 3162 non-null float64\n",
            "requires_license                    3818 non-null object\n",
            "license                             0 non-null float64\n",
            "jurisdiction_names                  3818 non-null object\n",
            "instant_bookable                    3818 non-null object\n",
            "cancellation_policy                 3818 non-null object\n",
            "require_guest_profile_picture       3818 non-null object\n",
            "require_guest_phone_verification    3818 non-null object\n",
            "calculated_host_listings_count      3818 non-null int64\n",
            "reviews_per_month                   3191 non-null float64\n",
            "dtypes: float64(17), int64(13), object(62)\n",
            "memory usage: 2.7+ MB\n"
          ],
          "name": "stdout"
        }
      ]
    },
    {
      "cell_type": "code",
      "metadata": {
        "id": "l1kjtei6yJuY",
        "colab_type": "code",
        "outputId": "d17003a6-fc7a-45ad-f5ed-3eb998d5dee0",
        "colab": {
          "base_uri": "https://localhost:8080/",
          "height": 407
        }
      },
      "source": [
        "#For this question, we only need to look at the property type, so we will only use the column\n",
        "seattle_listing = seattle_listing[['id', 'property_type']]\n",
        "seattle_listing"
      ],
      "execution_count": 150,
      "outputs": [
        {
          "output_type": "execute_result",
          "data": {
            "text/html": [
              "<div>\n",
              "<style scoped>\n",
              "    .dataframe tbody tr th:only-of-type {\n",
              "        vertical-align: middle;\n",
              "    }\n",
              "\n",
              "    .dataframe tbody tr th {\n",
              "        vertical-align: top;\n",
              "    }\n",
              "\n",
              "    .dataframe thead th {\n",
              "        text-align: right;\n",
              "    }\n",
              "</style>\n",
              "<table border=\"1\" class=\"dataframe\">\n",
              "  <thead>\n",
              "    <tr style=\"text-align: right;\">\n",
              "      <th></th>\n",
              "      <th>id</th>\n",
              "      <th>property_type</th>\n",
              "    </tr>\n",
              "  </thead>\n",
              "  <tbody>\n",
              "    <tr>\n",
              "      <th>0</th>\n",
              "      <td>241032</td>\n",
              "      <td>Apartment</td>\n",
              "    </tr>\n",
              "    <tr>\n",
              "      <th>1</th>\n",
              "      <td>953595</td>\n",
              "      <td>Apartment</td>\n",
              "    </tr>\n",
              "    <tr>\n",
              "      <th>2</th>\n",
              "      <td>3308979</td>\n",
              "      <td>House</td>\n",
              "    </tr>\n",
              "    <tr>\n",
              "      <th>3</th>\n",
              "      <td>7421966</td>\n",
              "      <td>Apartment</td>\n",
              "    </tr>\n",
              "    <tr>\n",
              "      <th>4</th>\n",
              "      <td>278830</td>\n",
              "      <td>House</td>\n",
              "    </tr>\n",
              "    <tr>\n",
              "      <th>...</th>\n",
              "      <td>...</td>\n",
              "      <td>...</td>\n",
              "    </tr>\n",
              "    <tr>\n",
              "      <th>3813</th>\n",
              "      <td>8101950</td>\n",
              "      <td>House</td>\n",
              "    </tr>\n",
              "    <tr>\n",
              "      <th>3814</th>\n",
              "      <td>8902327</td>\n",
              "      <td>Apartment</td>\n",
              "    </tr>\n",
              "    <tr>\n",
              "      <th>3815</th>\n",
              "      <td>10267360</td>\n",
              "      <td>House</td>\n",
              "    </tr>\n",
              "    <tr>\n",
              "      <th>3816</th>\n",
              "      <td>9604740</td>\n",
              "      <td>Condominium</td>\n",
              "    </tr>\n",
              "    <tr>\n",
              "      <th>3817</th>\n",
              "      <td>10208623</td>\n",
              "      <td>Apartment</td>\n",
              "    </tr>\n",
              "  </tbody>\n",
              "</table>\n",
              "<p>3818 rows × 2 columns</p>\n",
              "</div>"
            ],
            "text/plain": [
              "            id property_type\n",
              "0       241032     Apartment\n",
              "1       953595     Apartment\n",
              "2      3308979         House\n",
              "3      7421966     Apartment\n",
              "4       278830         House\n",
              "...        ...           ...\n",
              "3813   8101950         House\n",
              "3814   8902327     Apartment\n",
              "3815  10267360         House\n",
              "3816   9604740   Condominium\n",
              "3817  10208623     Apartment\n",
              "\n",
              "[3818 rows x 2 columns]"
            ]
          },
          "metadata": {
            "tags": []
          },
          "execution_count": 150
        }
      ]
    },
    {
      "cell_type": "code",
      "metadata": {
        "id": "uHrRYRI9z1n-",
        "colab_type": "code",
        "outputId": "5096c79c-d45e-4a45-b6e0-03785959568f",
        "colab": {
          "base_uri": "https://localhost:8080/",
          "height": 138
        }
      },
      "source": [
        "#Assess the data\n",
        "seattle_listing.info()"
      ],
      "execution_count": 151,
      "outputs": [
        {
          "output_type": "stream",
          "text": [
            "<class 'pandas.core.frame.DataFrame'>\n",
            "RangeIndex: 3818 entries, 0 to 3817\n",
            "Data columns (total 2 columns):\n",
            "id               3818 non-null int64\n",
            "property_type    3817 non-null object\n",
            "dtypes: int64(1), object(1)\n",
            "memory usage: 59.8+ KB\n"
          ],
          "name": "stdout"
        }
      ]
    },
    {
      "cell_type": "markdown",
      "metadata": {
        "id": "z4LLE6yj7pBM",
        "colab_type": "text"
      },
      "source": [
        "**Cleaning Data:**"
      ]
    },
    {
      "cell_type": "code",
      "metadata": {
        "id": "HfBgXSVOXpka",
        "colab_type": "code",
        "outputId": "d5927c84-9439-484e-8877-554ca749dd8b",
        "colab": {
          "base_uri": "https://localhost:8080/",
          "height": 138
        }
      },
      "source": [
        "#Drop the one line that contains Null values\n",
        "seattle_listing.dropna(inplace=True)\n",
        "seattle_listing.info()"
      ],
      "execution_count": 152,
      "outputs": [
        {
          "output_type": "stream",
          "text": [
            "<class 'pandas.core.frame.DataFrame'>\n",
            "Int64Index: 3817 entries, 0 to 3817\n",
            "Data columns (total 2 columns):\n",
            "id               3817 non-null int64\n",
            "property_type    3817 non-null object\n",
            "dtypes: int64(1), object(1)\n",
            "memory usage: 89.5+ KB\n"
          ],
          "name": "stdout"
        }
      ]
    },
    {
      "cell_type": "code",
      "metadata": {
        "id": "fesLkUR0z7PD",
        "colab_type": "code",
        "outputId": "78de720c-340c-4348-c348-ab0aa45c43cc",
        "colab": {
          "base_uri": "https://localhost:8080/",
          "height": 311
        }
      },
      "source": [
        "#Get values of the different property types\n",
        "seattle_listing.property_type.value_counts()"
      ],
      "execution_count": 153,
      "outputs": [
        {
          "output_type": "execute_result",
          "data": {
            "text/plain": [
              "House              1733\n",
              "Apartment          1708\n",
              "Townhouse           118\n",
              "Condominium          91\n",
              "Loft                 40\n",
              "Bed & Breakfast      37\n",
              "Other                22\n",
              "Cabin                21\n",
              "Camper/RV            13\n",
              "Bungalow             13\n",
              "Boat                  8\n",
              "Tent                  5\n",
              "Treehouse             3\n",
              "Dorm                  2\n",
              "Chalet                2\n",
              "Yurt                  1\n",
              "Name: property_type, dtype: int64"
            ]
          },
          "metadata": {
            "tags": []
          },
          "execution_count": 153
        }
      ]
    },
    {
      "cell_type": "code",
      "metadata": {
        "id": "MMckEaB00jFj",
        "colab_type": "code",
        "outputId": "5ca3ca41-23a8-4a1a-e8c4-ddfe58814717",
        "colab": {
          "base_uri": "https://localhost:8080/",
          "height": 86
        }
      },
      "source": [
        "#Create dictionary for convert Property types to 3 unique value. \n",
        "#House and Townhouse are consider both houses, except townhouse shares a wall\n",
        "#Condo's and apartments are the same. The only difference is ownership\n",
        "#The rest are considered 'Others'\n",
        "rooms = {'Townhouse': 'House',\n",
        "         'Condominium': 'Apartment',\n",
        "         'Loft': 'Other',\n",
        "         'Bed & Breakfast': 'Other',\n",
        "         'Cabin': 'Other',\n",
        "         'Camper/RV': 'Other',\n",
        "         'Bungalow': 'Other',\n",
        "         'Boat': 'Other',\n",
        "         'Tent': 'Other',\n",
        "         'Treehouse': 'Other',\n",
        "         'Dorm': 'Other',\n",
        "         'Chalet': 'Other',\n",
        "         'Yurt': 'Other',\n",
        "         'Entire Floor': 'Other',\n",
        "         'Villa': 'Other',\n",
        "         'Guesthouse': 'Other'}\n",
        "seattle_listing.replace({'property_type':rooms}, inplace=True)\n",
        "seattle_listing.property_type.value_counts()"
      ],
      "execution_count": 154,
      "outputs": [
        {
          "output_type": "execute_result",
          "data": {
            "text/plain": [
              "House        1851\n",
              "Apartment    1799\n",
              "Other         167\n",
              "Name: property_type, dtype: int64"
            ]
          },
          "metadata": {
            "tags": []
          },
          "execution_count": 154
        }
      ]
    },
    {
      "cell_type": "code",
      "metadata": {
        "id": "8n68PF7z9M4n",
        "colab_type": "code",
        "colab": {}
      },
      "source": [
        "#Calculate total number of listing\n",
        "total_listing = len(seattle_listing)"
      ],
      "execution_count": 0,
      "outputs": []
    },
    {
      "cell_type": "code",
      "metadata": {
        "id": "Y9y4UrxbgBLX",
        "colab_type": "code",
        "outputId": "2c7d2b41-2f1d-404a-de25-202ac049ad0c",
        "colab": {
          "base_uri": "https://localhost:8080/",
          "height": 86
        }
      },
      "source": [
        "#Convert value counts to percentage by dividing by total counts\n",
        "seattle_prop = seattle_listing.property_type.value_counts()\n",
        "seattle_prop = seattle_prop / total_listing\n",
        "seattle_prop"
      ],
      "execution_count": 156,
      "outputs": [
        {
          "output_type": "execute_result",
          "data": {
            "text/plain": [
              "House        0.484936\n",
              "Apartment    0.471313\n",
              "Other        0.043752\n",
              "Name: property_type, dtype: float64"
            ]
          },
          "metadata": {
            "tags": []
          },
          "execution_count": 156
        }
      ]
    },
    {
      "cell_type": "markdown",
      "metadata": {
        "id": "hy4o2--NTB0x",
        "colab_type": "text"
      },
      "source": [
        "##Data Modeling:"
      ]
    },
    {
      "cell_type": "code",
      "metadata": {
        "id": "KkrgxhjCL0Op",
        "colab_type": "code",
        "outputId": "c8904dd9-9aed-4365-f688-fb1a39f95f67",
        "colab": {
          "base_uri": "https://localhost:8080/",
          "height": 542
        }
      },
      "source": [
        "pie_chart(seattle_prop.index, seattle_prop.values, 'Seattle AirBnB Property Types')"
      ],
      "execution_count": 157,
      "outputs": [
        {
          "output_type": "display_data",
          "data": {
            "text/html": [
              "<html>\n",
              "<head><meta charset=\"utf-8\" /></head>\n",
              "<body>\n",
              "    <div>\n",
              "            <script src=\"https://cdnjs.cloudflare.com/ajax/libs/mathjax/2.7.5/MathJax.js?config=TeX-AMS-MML_SVG\"></script><script type=\"text/javascript\">if (window.MathJax) {MathJax.Hub.Config({SVG: {font: \"STIX-Web\"}});}</script>\n",
              "                <script type=\"text/javascript\">window.PlotlyConfig = {MathJaxConfig: 'local'};</script>\n",
              "        <script src=\"https://cdn.plot.ly/plotly-latest.min.js\"></script>    \n",
              "            <div id=\"7601eb95-9941-4962-b62f-447acf393efc\" class=\"plotly-graph-div\" style=\"height:525px; width:100%;\"></div>\n",
              "            <script type=\"text/javascript\">\n",
              "                \n",
              "                    window.PLOTLYENV=window.PLOTLYENV || {};\n",
              "                    \n",
              "                if (document.getElementById(\"7601eb95-9941-4962-b62f-447acf393efc\")) {\n",
              "                    Plotly.newPlot(\n",
              "                        '7601eb95-9941-4962-b62f-447acf393efc',\n",
              "                        [{\"labels\": [\"House\", \"Apartment\", \"Other\"], \"textinfo\": \"label+percent\", \"type\": \"pie\", \"values\": [0.48493581346607284, 0.4713125491223474, 0.04375163741157977]}],\n",
              "                        {\"template\": {\"data\": {\"bar\": [{\"error_x\": {\"color\": \"#2a3f5f\"}, \"error_y\": {\"color\": \"#2a3f5f\"}, \"marker\": {\"line\": {\"color\": \"#E5ECF6\", \"width\": 0.5}}, \"type\": \"bar\"}], \"barpolar\": [{\"marker\": {\"line\": {\"color\": \"#E5ECF6\", \"width\": 0.5}}, \"type\": \"barpolar\"}], \"carpet\": [{\"aaxis\": {\"endlinecolor\": \"#2a3f5f\", \"gridcolor\": \"white\", \"linecolor\": \"white\", \"minorgridcolor\": \"white\", \"startlinecolor\": \"#2a3f5f\"}, \"baxis\": {\"endlinecolor\": \"#2a3f5f\", \"gridcolor\": \"white\", \"linecolor\": \"white\", \"minorgridcolor\": \"white\", \"startlinecolor\": \"#2a3f5f\"}, \"type\": \"carpet\"}], \"choropleth\": [{\"colorbar\": {\"outlinewidth\": 0, \"ticks\": \"\"}, \"type\": \"choropleth\"}], \"contour\": [{\"colorbar\": {\"outlinewidth\": 0, \"ticks\": \"\"}, \"colorscale\": [[0.0, \"#0d0887\"], [0.1111111111111111, \"#46039f\"], [0.2222222222222222, \"#7201a8\"], [0.3333333333333333, \"#9c179e\"], [0.4444444444444444, \"#bd3786\"], [0.5555555555555556, \"#d8576b\"], [0.6666666666666666, \"#ed7953\"], [0.7777777777777778, \"#fb9f3a\"], [0.8888888888888888, \"#fdca26\"], [1.0, \"#f0f921\"]], \"type\": \"contour\"}], \"contourcarpet\": [{\"colorbar\": {\"outlinewidth\": 0, \"ticks\": \"\"}, \"type\": \"contourcarpet\"}], \"heatmap\": [{\"colorbar\": {\"outlinewidth\": 0, \"ticks\": \"\"}, \"colorscale\": [[0.0, \"#0d0887\"], [0.1111111111111111, \"#46039f\"], [0.2222222222222222, \"#7201a8\"], [0.3333333333333333, \"#9c179e\"], [0.4444444444444444, \"#bd3786\"], [0.5555555555555556, \"#d8576b\"], [0.6666666666666666, \"#ed7953\"], [0.7777777777777778, \"#fb9f3a\"], [0.8888888888888888, \"#fdca26\"], [1.0, \"#f0f921\"]], \"type\": \"heatmap\"}], \"heatmapgl\": [{\"colorbar\": {\"outlinewidth\": 0, \"ticks\": \"\"}, \"colorscale\": [[0.0, \"#0d0887\"], [0.1111111111111111, \"#46039f\"], [0.2222222222222222, \"#7201a8\"], [0.3333333333333333, \"#9c179e\"], [0.4444444444444444, \"#bd3786\"], [0.5555555555555556, \"#d8576b\"], [0.6666666666666666, \"#ed7953\"], [0.7777777777777778, \"#fb9f3a\"], [0.8888888888888888, \"#fdca26\"], [1.0, \"#f0f921\"]], \"type\": \"heatmapgl\"}], \"histogram\": [{\"marker\": {\"colorbar\": {\"outlinewidth\": 0, \"ticks\": \"\"}}, \"type\": \"histogram\"}], \"histogram2d\": [{\"colorbar\": {\"outlinewidth\": 0, \"ticks\": \"\"}, \"colorscale\": [[0.0, \"#0d0887\"], [0.1111111111111111, \"#46039f\"], [0.2222222222222222, \"#7201a8\"], [0.3333333333333333, \"#9c179e\"], [0.4444444444444444, \"#bd3786\"], [0.5555555555555556, \"#d8576b\"], [0.6666666666666666, \"#ed7953\"], [0.7777777777777778, \"#fb9f3a\"], [0.8888888888888888, \"#fdca26\"], [1.0, \"#f0f921\"]], \"type\": \"histogram2d\"}], \"histogram2dcontour\": [{\"colorbar\": {\"outlinewidth\": 0, \"ticks\": \"\"}, \"colorscale\": [[0.0, \"#0d0887\"], [0.1111111111111111, \"#46039f\"], [0.2222222222222222, \"#7201a8\"], [0.3333333333333333, \"#9c179e\"], [0.4444444444444444, \"#bd3786\"], [0.5555555555555556, \"#d8576b\"], [0.6666666666666666, \"#ed7953\"], [0.7777777777777778, \"#fb9f3a\"], [0.8888888888888888, \"#fdca26\"], [1.0, \"#f0f921\"]], \"type\": \"histogram2dcontour\"}], \"mesh3d\": [{\"colorbar\": {\"outlinewidth\": 0, \"ticks\": \"\"}, \"type\": \"mesh3d\"}], \"parcoords\": [{\"line\": {\"colorbar\": {\"outlinewidth\": 0, \"ticks\": \"\"}}, \"type\": \"parcoords\"}], \"pie\": [{\"automargin\": true, \"type\": \"pie\"}], \"scatter\": [{\"marker\": {\"colorbar\": {\"outlinewidth\": 0, \"ticks\": \"\"}}, \"type\": \"scatter\"}], \"scatter3d\": [{\"line\": {\"colorbar\": {\"outlinewidth\": 0, \"ticks\": \"\"}}, \"marker\": {\"colorbar\": {\"outlinewidth\": 0, \"ticks\": \"\"}}, \"type\": \"scatter3d\"}], \"scattercarpet\": [{\"marker\": {\"colorbar\": {\"outlinewidth\": 0, \"ticks\": \"\"}}, \"type\": \"scattercarpet\"}], \"scattergeo\": [{\"marker\": {\"colorbar\": {\"outlinewidth\": 0, \"ticks\": \"\"}}, \"type\": \"scattergeo\"}], \"scattergl\": [{\"marker\": {\"colorbar\": {\"outlinewidth\": 0, \"ticks\": \"\"}}, \"type\": \"scattergl\"}], \"scattermapbox\": [{\"marker\": {\"colorbar\": {\"outlinewidth\": 0, \"ticks\": \"\"}}, \"type\": \"scattermapbox\"}], \"scatterpolar\": [{\"marker\": {\"colorbar\": {\"outlinewidth\": 0, \"ticks\": \"\"}}, \"type\": \"scatterpolar\"}], \"scatterpolargl\": [{\"marker\": {\"colorbar\": {\"outlinewidth\": 0, \"ticks\": \"\"}}, \"type\": \"scatterpolargl\"}], \"scatterternary\": [{\"marker\": {\"colorbar\": {\"outlinewidth\": 0, \"ticks\": \"\"}}, \"type\": \"scatterternary\"}], \"surface\": [{\"colorbar\": {\"outlinewidth\": 0, \"ticks\": \"\"}, \"colorscale\": [[0.0, \"#0d0887\"], [0.1111111111111111, \"#46039f\"], [0.2222222222222222, \"#7201a8\"], [0.3333333333333333, \"#9c179e\"], [0.4444444444444444, \"#bd3786\"], [0.5555555555555556, \"#d8576b\"], [0.6666666666666666, \"#ed7953\"], [0.7777777777777778, \"#fb9f3a\"], [0.8888888888888888, \"#fdca26\"], [1.0, \"#f0f921\"]], \"type\": \"surface\"}], \"table\": [{\"cells\": {\"fill\": {\"color\": \"#EBF0F8\"}, \"line\": {\"color\": \"white\"}}, \"header\": {\"fill\": {\"color\": \"#C8D4E3\"}, \"line\": {\"color\": \"white\"}}, \"type\": \"table\"}]}, \"layout\": {\"annotationdefaults\": {\"arrowcolor\": \"#2a3f5f\", \"arrowhead\": 0, \"arrowwidth\": 1}, \"coloraxis\": {\"colorbar\": {\"outlinewidth\": 0, \"ticks\": \"\"}}, \"colorscale\": {\"diverging\": [[0, \"#8e0152\"], [0.1, \"#c51b7d\"], [0.2, \"#de77ae\"], [0.3, \"#f1b6da\"], [0.4, \"#fde0ef\"], [0.5, \"#f7f7f7\"], [0.6, \"#e6f5d0\"], [0.7, \"#b8e186\"], [0.8, \"#7fbc41\"], [0.9, \"#4d9221\"], [1, \"#276419\"]], \"sequential\": [[0.0, \"#0d0887\"], [0.1111111111111111, \"#46039f\"], [0.2222222222222222, \"#7201a8\"], [0.3333333333333333, \"#9c179e\"], [0.4444444444444444, \"#bd3786\"], [0.5555555555555556, \"#d8576b\"], [0.6666666666666666, \"#ed7953\"], [0.7777777777777778, \"#fb9f3a\"], [0.8888888888888888, \"#fdca26\"], [1.0, \"#f0f921\"]], \"sequentialminus\": [[0.0, \"#0d0887\"], [0.1111111111111111, \"#46039f\"], [0.2222222222222222, \"#7201a8\"], [0.3333333333333333, \"#9c179e\"], [0.4444444444444444, \"#bd3786\"], [0.5555555555555556, \"#d8576b\"], [0.6666666666666666, \"#ed7953\"], [0.7777777777777778, \"#fb9f3a\"], [0.8888888888888888, \"#fdca26\"], [1.0, \"#f0f921\"]]}, \"colorway\": [\"#636efa\", \"#EF553B\", \"#00cc96\", \"#ab63fa\", \"#FFA15A\", \"#19d3f3\", \"#FF6692\", \"#B6E880\", \"#FF97FF\", \"#FECB52\"], \"font\": {\"color\": \"#2a3f5f\"}, \"geo\": {\"bgcolor\": \"white\", \"lakecolor\": \"white\", \"landcolor\": \"#E5ECF6\", \"showlakes\": true, \"showland\": true, \"subunitcolor\": \"white\"}, \"hoverlabel\": {\"align\": \"left\"}, \"hovermode\": \"closest\", \"mapbox\": {\"style\": \"light\"}, \"paper_bgcolor\": \"white\", \"plot_bgcolor\": \"#E5ECF6\", \"polar\": {\"angularaxis\": {\"gridcolor\": \"white\", \"linecolor\": \"white\", \"ticks\": \"\"}, \"bgcolor\": \"#E5ECF6\", \"radialaxis\": {\"gridcolor\": \"white\", \"linecolor\": \"white\", \"ticks\": \"\"}}, \"scene\": {\"xaxis\": {\"backgroundcolor\": \"#E5ECF6\", \"gridcolor\": \"white\", \"gridwidth\": 2, \"linecolor\": \"white\", \"showbackground\": true, \"ticks\": \"\", \"zerolinecolor\": \"white\"}, \"yaxis\": {\"backgroundcolor\": \"#E5ECF6\", \"gridcolor\": \"white\", \"gridwidth\": 2, \"linecolor\": \"white\", \"showbackground\": true, \"ticks\": \"\", \"zerolinecolor\": \"white\"}, \"zaxis\": {\"backgroundcolor\": \"#E5ECF6\", \"gridcolor\": \"white\", \"gridwidth\": 2, \"linecolor\": \"white\", \"showbackground\": true, \"ticks\": \"\", \"zerolinecolor\": \"white\"}}, \"shapedefaults\": {\"line\": {\"color\": \"#2a3f5f\"}}, \"ternary\": {\"aaxis\": {\"gridcolor\": \"white\", \"linecolor\": \"white\", \"ticks\": \"\"}, \"baxis\": {\"gridcolor\": \"white\", \"linecolor\": \"white\", \"ticks\": \"\"}, \"bgcolor\": \"#E5ECF6\", \"caxis\": {\"gridcolor\": \"white\", \"linecolor\": \"white\", \"ticks\": \"\"}}, \"title\": {\"x\": 0.05}, \"xaxis\": {\"automargin\": true, \"gridcolor\": \"white\", \"linecolor\": \"white\", \"ticks\": \"\", \"title\": {\"standoff\": 15}, \"zerolinecolor\": \"white\", \"zerolinewidth\": 2}, \"yaxis\": {\"automargin\": true, \"gridcolor\": \"white\", \"linecolor\": \"white\", \"ticks\": \"\", \"title\": {\"standoff\": 15}, \"zerolinecolor\": \"white\", \"zerolinewidth\": 2}}}, \"title\": {\"text\": \"Seattle AirBnB Property Types\", \"x\": 0.61, \"xanchor\": \"right\", \"y\": 0.9}},\n",
              "                        {\"responsive\": true}\n",
              "                    ).then(function(){\n",
              "                            \n",
              "var gd = document.getElementById('7601eb95-9941-4962-b62f-447acf393efc');\n",
              "var x = new MutationObserver(function (mutations, observer) {{\n",
              "        var display = window.getComputedStyle(gd).display;\n",
              "        if (!display || display === 'none') {{\n",
              "            console.log([gd, 'removed!']);\n",
              "            Plotly.purge(gd);\n",
              "            observer.disconnect();\n",
              "        }}\n",
              "}});\n",
              "\n",
              "// Listen for the removal of the full notebook cells\n",
              "var notebookContainer = gd.closest('#notebook-container');\n",
              "if (notebookContainer) {{\n",
              "    x.observe(notebookContainer, {childList: true});\n",
              "}}\n",
              "\n",
              "// Listen for the clearing of the current output cell\n",
              "var outputEl = gd.closest('.output');\n",
              "if (outputEl) {{\n",
              "    x.observe(outputEl, {childList: true});\n",
              "}}\n",
              "\n",
              "                        })\n",
              "                };\n",
              "                \n",
              "            </script>\n",
              "        </div>\n",
              "</body>\n",
              "</html>"
            ]
          },
          "metadata": {
            "tags": []
          }
        }
      ]
    },
    {
      "cell_type": "markdown",
      "metadata": {
        "id": "LLc8Cl0hTc9M",
        "colab_type": "text"
      },
      "source": [
        "##Preparing Data\n",
        "**Assessing Data:**"
      ]
    },
    {
      "cell_type": "code",
      "metadata": {
        "id": "IMtcDgKFZ65I",
        "colab_type": "code",
        "outputId": "ecab44ab-4d10-451a-9983-1589ac59aca1",
        "colab": {
          "base_uri": "https://localhost:8080/",
          "height": 259
        }
      },
      "source": [
        "#Repeat process for Boston\n",
        "boston_listing = boston_listing[['id', 'property_type']]\n",
        "boston_listing.property_type.value_counts()"
      ],
      "execution_count": 158,
      "outputs": [
        {
          "output_type": "execute_result",
          "data": {
            "text/plain": [
              "Apartment          2612\n",
              "House               562\n",
              "Condominium         231\n",
              "Townhouse            54\n",
              "Bed & Breakfast      41\n",
              "Loft                 39\n",
              "Other                17\n",
              "Boat                 12\n",
              "Villa                 6\n",
              "Entire Floor          4\n",
              "Dorm                  2\n",
              "Guesthouse            1\n",
              "Camper/RV             1\n",
              "Name: property_type, dtype: int64"
            ]
          },
          "metadata": {
            "tags": []
          },
          "execution_count": 158
        }
      ]
    },
    {
      "cell_type": "code",
      "metadata": {
        "id": "d4w6xKHx_ync",
        "colab_type": "code",
        "outputId": "6a1ba14b-c947-4832-d898-62e4bfb78732",
        "colab": {
          "base_uri": "https://localhost:8080/",
          "height": 138
        }
      },
      "source": [
        "boston_listing.info()"
      ],
      "execution_count": 159,
      "outputs": [
        {
          "output_type": "stream",
          "text": [
            "<class 'pandas.core.frame.DataFrame'>\n",
            "RangeIndex: 3585 entries, 0 to 3584\n",
            "Data columns (total 2 columns):\n",
            "id               3585 non-null int64\n",
            "property_type    3582 non-null object\n",
            "dtypes: int64(1), object(1)\n",
            "memory usage: 56.1+ KB\n"
          ],
          "name": "stdout"
        }
      ]
    },
    {
      "cell_type": "markdown",
      "metadata": {
        "id": "KNARUV7TToMB",
        "colab_type": "text"
      },
      "source": [
        "**Cleaning Data:**"
      ]
    },
    {
      "cell_type": "code",
      "metadata": {
        "id": "H5QMDtRV_22q",
        "colab_type": "code",
        "outputId": "148ab9e0-2326-429f-9504-bc2e38f8b396",
        "colab": {
          "base_uri": "https://localhost:8080/",
          "height": 138
        }
      },
      "source": [
        "boston_listing.dropna(inplace=True)\n",
        "boston_listing.info()"
      ],
      "execution_count": 160,
      "outputs": [
        {
          "output_type": "stream",
          "text": [
            "<class 'pandas.core.frame.DataFrame'>\n",
            "Int64Index: 3582 entries, 0 to 3584\n",
            "Data columns (total 2 columns):\n",
            "id               3582 non-null int64\n",
            "property_type    3582 non-null object\n",
            "dtypes: int64(1), object(1)\n",
            "memory usage: 84.0+ KB\n"
          ],
          "name": "stdout"
        }
      ]
    },
    {
      "cell_type": "code",
      "metadata": {
        "id": "HJJQmglvaApb",
        "colab_type": "code",
        "outputId": "316b735d-613f-4648-af4d-d1ff7403c2e9",
        "colab": {
          "base_uri": "https://localhost:8080/",
          "height": 86
        }
      },
      "source": [
        "#Convert property types to 3 different categories: House, Apartment, Other\n",
        "boston_listing.replace({'property_type':rooms}, inplace=True)\n",
        "boston_listing.property_type.value_counts()"
      ],
      "execution_count": 161,
      "outputs": [
        {
          "output_type": "execute_result",
          "data": {
            "text/plain": [
              "Apartment    2843\n",
              "House         616\n",
              "Other         123\n",
              "Name: property_type, dtype: int64"
            ]
          },
          "metadata": {
            "tags": []
          },
          "execution_count": 161
        }
      ]
    },
    {
      "cell_type": "code",
      "metadata": {
        "id": "W7afsYPhAt2o",
        "colab_type": "code",
        "outputId": "086f4c34-2a63-46e8-e720-0cbb94515ce7",
        "colab": {
          "base_uri": "https://localhost:8080/",
          "height": 35
        }
      },
      "source": [
        "#Calculate total number of listing\n",
        "total_listing = len(boston_listing)\n",
        "total_listing"
      ],
      "execution_count": 162,
      "outputs": [
        {
          "output_type": "execute_result",
          "data": {
            "text/plain": [
              "3582"
            ]
          },
          "metadata": {
            "tags": []
          },
          "execution_count": 162
        }
      ]
    },
    {
      "cell_type": "code",
      "metadata": {
        "id": "-xwmsCLFA3eI",
        "colab_type": "code",
        "outputId": "0bc077cc-ab59-42f5-db13-b2dbc20ebc3b",
        "colab": {
          "base_uri": "https://localhost:8080/",
          "height": 86
        }
      },
      "source": [
        "#Convert value counts to percentage by dividing by total counts\n",
        "boston_prop = boston_listing.property_type.value_counts()\n",
        "boston_prop = boston_prop / total_listing\n",
        "boston_prop"
      ],
      "execution_count": 163,
      "outputs": [
        {
          "output_type": "execute_result",
          "data": {
            "text/plain": [
              "Apartment    0.793691\n",
              "House        0.171971\n",
              "Other        0.034338\n",
              "Name: property_type, dtype: float64"
            ]
          },
          "metadata": {
            "tags": []
          },
          "execution_count": 163
        }
      ]
    },
    {
      "cell_type": "markdown",
      "metadata": {
        "id": "0et2gwQ6Tw1u",
        "colab_type": "text"
      },
      "source": [
        "##Data Modeling:"
      ]
    },
    {
      "cell_type": "code",
      "metadata": {
        "id": "mH2aWSBZdnqX",
        "colab_type": "code",
        "outputId": "f5021708-4f37-4641-bc2e-3f721475bbc8",
        "colab": {
          "base_uri": "https://localhost:8080/",
          "height": 542
        }
      },
      "source": [
        "pie_chart(boston_prop.index, boston_prop.values, 'Boston AirBnB Property Types')"
      ],
      "execution_count": 164,
      "outputs": [
        {
          "output_type": "display_data",
          "data": {
            "text/html": [
              "<html>\n",
              "<head><meta charset=\"utf-8\" /></head>\n",
              "<body>\n",
              "    <div>\n",
              "            <script src=\"https://cdnjs.cloudflare.com/ajax/libs/mathjax/2.7.5/MathJax.js?config=TeX-AMS-MML_SVG\"></script><script type=\"text/javascript\">if (window.MathJax) {MathJax.Hub.Config({SVG: {font: \"STIX-Web\"}});}</script>\n",
              "                <script type=\"text/javascript\">window.PlotlyConfig = {MathJaxConfig: 'local'};</script>\n",
              "        <script src=\"https://cdn.plot.ly/plotly-latest.min.js\"></script>    \n",
              "            <div id=\"e8447a42-b7ff-4215-81d1-a043719d7723\" class=\"plotly-graph-div\" style=\"height:525px; width:100%;\"></div>\n",
              "            <script type=\"text/javascript\">\n",
              "                \n",
              "                    window.PLOTLYENV=window.PLOTLYENV || {};\n",
              "                    \n",
              "                if (document.getElementById(\"e8447a42-b7ff-4215-81d1-a043719d7723\")) {\n",
              "                    Plotly.newPlot(\n",
              "                        'e8447a42-b7ff-4215-81d1-a043719d7723',\n",
              "                        [{\"labels\": [\"Apartment\", \"House\", \"Other\"], \"textinfo\": \"label+percent\", \"type\": \"pie\", \"values\": [0.7936906756002233, 0.17197096594081518, 0.03433835845896147]}],\n",
              "                        {\"template\": {\"data\": {\"bar\": [{\"error_x\": {\"color\": \"#2a3f5f\"}, \"error_y\": {\"color\": \"#2a3f5f\"}, \"marker\": {\"line\": {\"color\": \"#E5ECF6\", \"width\": 0.5}}, \"type\": \"bar\"}], \"barpolar\": [{\"marker\": {\"line\": {\"color\": \"#E5ECF6\", \"width\": 0.5}}, \"type\": \"barpolar\"}], \"carpet\": [{\"aaxis\": {\"endlinecolor\": \"#2a3f5f\", \"gridcolor\": \"white\", \"linecolor\": \"white\", \"minorgridcolor\": \"white\", \"startlinecolor\": \"#2a3f5f\"}, \"baxis\": {\"endlinecolor\": \"#2a3f5f\", \"gridcolor\": \"white\", \"linecolor\": \"white\", \"minorgridcolor\": \"white\", \"startlinecolor\": \"#2a3f5f\"}, \"type\": \"carpet\"}], \"choropleth\": [{\"colorbar\": {\"outlinewidth\": 0, \"ticks\": \"\"}, \"type\": \"choropleth\"}], \"contour\": [{\"colorbar\": {\"outlinewidth\": 0, \"ticks\": \"\"}, \"colorscale\": [[0.0, \"#0d0887\"], [0.1111111111111111, \"#46039f\"], [0.2222222222222222, \"#7201a8\"], [0.3333333333333333, \"#9c179e\"], [0.4444444444444444, \"#bd3786\"], [0.5555555555555556, \"#d8576b\"], [0.6666666666666666, \"#ed7953\"], [0.7777777777777778, \"#fb9f3a\"], [0.8888888888888888, \"#fdca26\"], [1.0, \"#f0f921\"]], \"type\": \"contour\"}], \"contourcarpet\": [{\"colorbar\": {\"outlinewidth\": 0, \"ticks\": \"\"}, \"type\": \"contourcarpet\"}], \"heatmap\": [{\"colorbar\": {\"outlinewidth\": 0, \"ticks\": \"\"}, \"colorscale\": [[0.0, \"#0d0887\"], [0.1111111111111111, \"#46039f\"], [0.2222222222222222, \"#7201a8\"], [0.3333333333333333, \"#9c179e\"], [0.4444444444444444, \"#bd3786\"], [0.5555555555555556, \"#d8576b\"], [0.6666666666666666, \"#ed7953\"], [0.7777777777777778, \"#fb9f3a\"], [0.8888888888888888, \"#fdca26\"], [1.0, \"#f0f921\"]], \"type\": \"heatmap\"}], \"heatmapgl\": [{\"colorbar\": {\"outlinewidth\": 0, \"ticks\": \"\"}, \"colorscale\": [[0.0, \"#0d0887\"], [0.1111111111111111, \"#46039f\"], [0.2222222222222222, \"#7201a8\"], [0.3333333333333333, \"#9c179e\"], [0.4444444444444444, \"#bd3786\"], [0.5555555555555556, \"#d8576b\"], [0.6666666666666666, \"#ed7953\"], [0.7777777777777778, \"#fb9f3a\"], [0.8888888888888888, \"#fdca26\"], [1.0, \"#f0f921\"]], \"type\": \"heatmapgl\"}], \"histogram\": [{\"marker\": {\"colorbar\": {\"outlinewidth\": 0, \"ticks\": \"\"}}, \"type\": \"histogram\"}], \"histogram2d\": [{\"colorbar\": {\"outlinewidth\": 0, \"ticks\": \"\"}, \"colorscale\": [[0.0, \"#0d0887\"], [0.1111111111111111, \"#46039f\"], [0.2222222222222222, \"#7201a8\"], [0.3333333333333333, \"#9c179e\"], [0.4444444444444444, \"#bd3786\"], [0.5555555555555556, \"#d8576b\"], [0.6666666666666666, \"#ed7953\"], [0.7777777777777778, \"#fb9f3a\"], [0.8888888888888888, \"#fdca26\"], [1.0, \"#f0f921\"]], \"type\": \"histogram2d\"}], \"histogram2dcontour\": [{\"colorbar\": {\"outlinewidth\": 0, \"ticks\": \"\"}, \"colorscale\": [[0.0, \"#0d0887\"], [0.1111111111111111, \"#46039f\"], [0.2222222222222222, \"#7201a8\"], [0.3333333333333333, \"#9c179e\"], [0.4444444444444444, \"#bd3786\"], [0.5555555555555556, \"#d8576b\"], [0.6666666666666666, \"#ed7953\"], [0.7777777777777778, \"#fb9f3a\"], [0.8888888888888888, \"#fdca26\"], [1.0, \"#f0f921\"]], \"type\": \"histogram2dcontour\"}], \"mesh3d\": [{\"colorbar\": {\"outlinewidth\": 0, \"ticks\": \"\"}, \"type\": \"mesh3d\"}], \"parcoords\": [{\"line\": {\"colorbar\": {\"outlinewidth\": 0, \"ticks\": \"\"}}, \"type\": \"parcoords\"}], \"pie\": [{\"automargin\": true, \"type\": \"pie\"}], \"scatter\": [{\"marker\": {\"colorbar\": {\"outlinewidth\": 0, \"ticks\": \"\"}}, \"type\": \"scatter\"}], \"scatter3d\": [{\"line\": {\"colorbar\": {\"outlinewidth\": 0, \"ticks\": \"\"}}, \"marker\": {\"colorbar\": {\"outlinewidth\": 0, \"ticks\": \"\"}}, \"type\": \"scatter3d\"}], \"scattercarpet\": [{\"marker\": {\"colorbar\": {\"outlinewidth\": 0, \"ticks\": \"\"}}, \"type\": \"scattercarpet\"}], \"scattergeo\": [{\"marker\": {\"colorbar\": {\"outlinewidth\": 0, \"ticks\": \"\"}}, \"type\": \"scattergeo\"}], \"scattergl\": [{\"marker\": {\"colorbar\": {\"outlinewidth\": 0, \"ticks\": \"\"}}, \"type\": \"scattergl\"}], \"scattermapbox\": [{\"marker\": {\"colorbar\": {\"outlinewidth\": 0, \"ticks\": \"\"}}, \"type\": \"scattermapbox\"}], \"scatterpolar\": [{\"marker\": {\"colorbar\": {\"outlinewidth\": 0, \"ticks\": \"\"}}, \"type\": \"scatterpolar\"}], \"scatterpolargl\": [{\"marker\": {\"colorbar\": {\"outlinewidth\": 0, \"ticks\": \"\"}}, \"type\": \"scatterpolargl\"}], \"scatterternary\": [{\"marker\": {\"colorbar\": {\"outlinewidth\": 0, \"ticks\": \"\"}}, \"type\": \"scatterternary\"}], \"surface\": [{\"colorbar\": {\"outlinewidth\": 0, \"ticks\": \"\"}, \"colorscale\": [[0.0, \"#0d0887\"], [0.1111111111111111, \"#46039f\"], [0.2222222222222222, \"#7201a8\"], [0.3333333333333333, \"#9c179e\"], [0.4444444444444444, \"#bd3786\"], [0.5555555555555556, \"#d8576b\"], [0.6666666666666666, \"#ed7953\"], [0.7777777777777778, \"#fb9f3a\"], [0.8888888888888888, \"#fdca26\"], [1.0, \"#f0f921\"]], \"type\": \"surface\"}], \"table\": [{\"cells\": {\"fill\": {\"color\": \"#EBF0F8\"}, \"line\": {\"color\": \"white\"}}, \"header\": {\"fill\": {\"color\": \"#C8D4E3\"}, \"line\": {\"color\": \"white\"}}, \"type\": \"table\"}]}, \"layout\": {\"annotationdefaults\": {\"arrowcolor\": \"#2a3f5f\", \"arrowhead\": 0, \"arrowwidth\": 1}, \"coloraxis\": {\"colorbar\": {\"outlinewidth\": 0, \"ticks\": \"\"}}, \"colorscale\": {\"diverging\": [[0, \"#8e0152\"], [0.1, \"#c51b7d\"], [0.2, \"#de77ae\"], [0.3, \"#f1b6da\"], [0.4, \"#fde0ef\"], [0.5, \"#f7f7f7\"], [0.6, \"#e6f5d0\"], [0.7, \"#b8e186\"], [0.8, \"#7fbc41\"], [0.9, \"#4d9221\"], [1, \"#276419\"]], \"sequential\": [[0.0, \"#0d0887\"], [0.1111111111111111, \"#46039f\"], [0.2222222222222222, \"#7201a8\"], [0.3333333333333333, \"#9c179e\"], [0.4444444444444444, \"#bd3786\"], [0.5555555555555556, \"#d8576b\"], [0.6666666666666666, \"#ed7953\"], [0.7777777777777778, \"#fb9f3a\"], [0.8888888888888888, \"#fdca26\"], [1.0, \"#f0f921\"]], \"sequentialminus\": [[0.0, \"#0d0887\"], [0.1111111111111111, \"#46039f\"], [0.2222222222222222, \"#7201a8\"], [0.3333333333333333, \"#9c179e\"], [0.4444444444444444, \"#bd3786\"], [0.5555555555555556, \"#d8576b\"], [0.6666666666666666, \"#ed7953\"], [0.7777777777777778, \"#fb9f3a\"], [0.8888888888888888, \"#fdca26\"], [1.0, \"#f0f921\"]]}, \"colorway\": [\"#636efa\", \"#EF553B\", \"#00cc96\", \"#ab63fa\", \"#FFA15A\", \"#19d3f3\", \"#FF6692\", \"#B6E880\", \"#FF97FF\", \"#FECB52\"], \"font\": {\"color\": \"#2a3f5f\"}, \"geo\": {\"bgcolor\": \"white\", \"lakecolor\": \"white\", \"landcolor\": \"#E5ECF6\", \"showlakes\": true, \"showland\": true, \"subunitcolor\": \"white\"}, \"hoverlabel\": {\"align\": \"left\"}, \"hovermode\": \"closest\", \"mapbox\": {\"style\": \"light\"}, \"paper_bgcolor\": \"white\", \"plot_bgcolor\": \"#E5ECF6\", \"polar\": {\"angularaxis\": {\"gridcolor\": \"white\", \"linecolor\": \"white\", \"ticks\": \"\"}, \"bgcolor\": \"#E5ECF6\", \"radialaxis\": {\"gridcolor\": \"white\", \"linecolor\": \"white\", \"ticks\": \"\"}}, \"scene\": {\"xaxis\": {\"backgroundcolor\": \"#E5ECF6\", \"gridcolor\": \"white\", \"gridwidth\": 2, \"linecolor\": \"white\", \"showbackground\": true, \"ticks\": \"\", \"zerolinecolor\": \"white\"}, \"yaxis\": {\"backgroundcolor\": \"#E5ECF6\", \"gridcolor\": \"white\", \"gridwidth\": 2, \"linecolor\": \"white\", \"showbackground\": true, \"ticks\": \"\", \"zerolinecolor\": \"white\"}, \"zaxis\": {\"backgroundcolor\": \"#E5ECF6\", \"gridcolor\": \"white\", \"gridwidth\": 2, \"linecolor\": \"white\", \"showbackground\": true, \"ticks\": \"\", \"zerolinecolor\": \"white\"}}, \"shapedefaults\": {\"line\": {\"color\": \"#2a3f5f\"}}, \"ternary\": {\"aaxis\": {\"gridcolor\": \"white\", \"linecolor\": \"white\", \"ticks\": \"\"}, \"baxis\": {\"gridcolor\": \"white\", \"linecolor\": \"white\", \"ticks\": \"\"}, \"bgcolor\": \"#E5ECF6\", \"caxis\": {\"gridcolor\": \"white\", \"linecolor\": \"white\", \"ticks\": \"\"}}, \"title\": {\"x\": 0.05}, \"xaxis\": {\"automargin\": true, \"gridcolor\": \"white\", \"linecolor\": \"white\", \"ticks\": \"\", \"title\": {\"standoff\": 15}, \"zerolinecolor\": \"white\", \"zerolinewidth\": 2}, \"yaxis\": {\"automargin\": true, \"gridcolor\": \"white\", \"linecolor\": \"white\", \"ticks\": \"\", \"title\": {\"standoff\": 15}, \"zerolinecolor\": \"white\", \"zerolinewidth\": 2}}}, \"title\": {\"text\": \"Boston AirBnB Property Types\", \"x\": 0.61, \"xanchor\": \"right\", \"y\": 0.9}},\n",
              "                        {\"responsive\": true}\n",
              "                    ).then(function(){\n",
              "                            \n",
              "var gd = document.getElementById('e8447a42-b7ff-4215-81d1-a043719d7723');\n",
              "var x = new MutationObserver(function (mutations, observer) {{\n",
              "        var display = window.getComputedStyle(gd).display;\n",
              "        if (!display || display === 'none') {{\n",
              "            console.log([gd, 'removed!']);\n",
              "            Plotly.purge(gd);\n",
              "            observer.disconnect();\n",
              "        }}\n",
              "}});\n",
              "\n",
              "// Listen for the removal of the full notebook cells\n",
              "var notebookContainer = gd.closest('#notebook-container');\n",
              "if (notebookContainer) {{\n",
              "    x.observe(notebookContainer, {childList: true});\n",
              "}}\n",
              "\n",
              "// Listen for the clearing of the current output cell\n",
              "var outputEl = gd.closest('.output');\n",
              "if (outputEl) {{\n",
              "    x.observe(outputEl, {childList: true});\n",
              "}}\n",
              "\n",
              "                        })\n",
              "                };\n",
              "                \n",
              "            </script>\n",
              "        </div>\n",
              "</body>\n",
              "</html>"
            ]
          },
          "metadata": {
            "tags": []
          }
        }
      ]
    },
    {
      "cell_type": "markdown",
      "metadata": {
        "id": "GnuJjzn7-7Rs",
        "colab_type": "text"
      },
      "source": [
        "##Evaluate Results\n",
        "Seattle and Boston are vastly different when it comes to the make up of property types. For Seattle, it is about equally the same in terms of the percentage of Home and Apartment listings, with both around 48% each, while only 4% falls under the category of other.  As for Boston, also 80% of the listing are Apartments. Only 17% falls under the House property type. That is much lower than Seattle."
      ]
    },
    {
      "cell_type": "markdown",
      "metadata": {
        "id": "m9J7IrCjT1UQ",
        "colab_type": "text"
      },
      "source": [
        "##Deploy\n",
        "Both locations has around 96% of their properties that are listing as either Homes or Apartments.  Seattle has a even split between homes and apartments, while Boston has a low percentage of home listing. There could be business opportunties for getting more homes listed on Airbnb. Also, Airbub has a large potentional market for listings that are not your tradition homes and apartments. Things like treehouse, yurt, Rv's could be used to attract more customers."
      ]
    },
    {
      "cell_type": "markdown",
      "metadata": {
        "colab_type": "text",
        "id": "B65lbK4jkUHF"
      },
      "source": [
        "#CRISP-DM\n",
        "**Business Understanding** <br>\n",
        "#Question 3: <br>\n",
        "What factors effects the price of the listing?"
      ]
    },
    {
      "cell_type": "markdown",
      "metadata": {
        "colab_type": "text",
        "id": "DzhpLJ1nkym3"
      },
      "source": [
        "##Data Understanding\n",
        "**Gathering Data:**"
      ]
    },
    {
      "cell_type": "code",
      "metadata": {
        "id": "TB104c3ykoYX",
        "colab_type": "code",
        "outputId": "2b2fac1e-19e3-4f46-b145-c0913a1421bc",
        "colab": {
          "base_uri": "https://localhost:8080/",
          "height": 1000
        }
      },
      "source": [
        "import numpy as np\n",
        "import pandas as pd\n",
        "import matplotlib.pyplot as plt\n",
        "from sklearn.linear_model import LinearRegression\n",
        "from sklearn.model_selection import train_test_split\n",
        "from sklearn.metrics import r2_score, mean_squared_error\n",
        "import seaborn as sns\n",
        "%matplotlib inline\n",
        "\n",
        "seattle_listing = pd.read_csv('seattle_listings.csv')\n",
        "seattle_listing.info()"
      ],
      "execution_count": 165,
      "outputs": [
        {
          "output_type": "stream",
          "text": [
            "<class 'pandas.core.frame.DataFrame'>\n",
            "RangeIndex: 3818 entries, 0 to 3817\n",
            "Data columns (total 92 columns):\n",
            "id                                  3818 non-null int64\n",
            "listing_url                         3818 non-null object\n",
            "scrape_id                           3818 non-null int64\n",
            "last_scraped                        3818 non-null object\n",
            "name                                3818 non-null object\n",
            "summary                             3641 non-null object\n",
            "space                               3249 non-null object\n",
            "description                         3818 non-null object\n",
            "experiences_offered                 3818 non-null object\n",
            "neighborhood_overview               2786 non-null object\n",
            "notes                               2212 non-null object\n",
            "transit                             2884 non-null object\n",
            "thumbnail_url                       3498 non-null object\n",
            "medium_url                          3498 non-null object\n",
            "picture_url                         3818 non-null object\n",
            "xl_picture_url                      3498 non-null object\n",
            "host_id                             3818 non-null int64\n",
            "host_url                            3818 non-null object\n",
            "host_name                           3816 non-null object\n",
            "host_since                          3816 non-null object\n",
            "host_location                       3810 non-null object\n",
            "host_about                          2959 non-null object\n",
            "host_response_time                  3295 non-null object\n",
            "host_response_rate                  3295 non-null object\n",
            "host_acceptance_rate                3045 non-null object\n",
            "host_is_superhost                   3816 non-null object\n",
            "host_thumbnail_url                  3816 non-null object\n",
            "host_picture_url                    3816 non-null object\n",
            "host_neighbourhood                  3518 non-null object\n",
            "host_listings_count                 3816 non-null float64\n",
            "host_total_listings_count           3816 non-null float64\n",
            "host_verifications                  3818 non-null object\n",
            "host_has_profile_pic                3816 non-null object\n",
            "host_identity_verified              3816 non-null object\n",
            "street                              3818 non-null object\n",
            "neighbourhood                       3402 non-null object\n",
            "neighbourhood_cleansed              3818 non-null object\n",
            "neighbourhood_group_cleansed        3818 non-null object\n",
            "city                                3818 non-null object\n",
            "state                               3818 non-null object\n",
            "zipcode                             3811 non-null object\n",
            "market                              3818 non-null object\n",
            "smart_location                      3818 non-null object\n",
            "country_code                        3818 non-null object\n",
            "country                             3818 non-null object\n",
            "latitude                            3818 non-null float64\n",
            "longitude                           3818 non-null float64\n",
            "is_location_exact                   3818 non-null object\n",
            "property_type                       3817 non-null object\n",
            "room_type                           3818 non-null object\n",
            "accommodates                        3818 non-null int64\n",
            "bathrooms                           3802 non-null float64\n",
            "bedrooms                            3812 non-null float64\n",
            "beds                                3817 non-null float64\n",
            "bed_type                            3818 non-null object\n",
            "amenities                           3818 non-null object\n",
            "square_feet                         97 non-null float64\n",
            "price                               3818 non-null object\n",
            "weekly_price                        2009 non-null object\n",
            "monthly_price                       1517 non-null object\n",
            "security_deposit                    1866 non-null object\n",
            "cleaning_fee                        2788 non-null object\n",
            "guests_included                     3818 non-null int64\n",
            "extra_people                        3818 non-null object\n",
            "minimum_nights                      3818 non-null int64\n",
            "maximum_nights                      3818 non-null int64\n",
            "calendar_updated                    3818 non-null object\n",
            "has_availability                    3818 non-null object\n",
            "availability_30                     3818 non-null int64\n",
            "availability_60                     3818 non-null int64\n",
            "availability_90                     3818 non-null int64\n",
            "availability_365                    3818 non-null int64\n",
            "calendar_last_scraped               3818 non-null object\n",
            "number_of_reviews                   3818 non-null int64\n",
            "first_review                        3191 non-null object\n",
            "last_review                         3191 non-null object\n",
            "review_scores_rating                3171 non-null float64\n",
            "review_scores_accuracy              3160 non-null float64\n",
            "review_scores_cleanliness           3165 non-null float64\n",
            "review_scores_checkin               3160 non-null float64\n",
            "review_scores_communication         3167 non-null float64\n",
            "review_scores_location              3163 non-null float64\n",
            "review_scores_value                 3162 non-null float64\n",
            "requires_license                    3818 non-null object\n",
            "license                             0 non-null float64\n",
            "jurisdiction_names                  3818 non-null object\n",
            "instant_bookable                    3818 non-null object\n",
            "cancellation_policy                 3818 non-null object\n",
            "require_guest_profile_picture       3818 non-null object\n",
            "require_guest_phone_verification    3818 non-null object\n",
            "calculated_host_listings_count      3818 non-null int64\n",
            "reviews_per_month                   3191 non-null float64\n",
            "dtypes: float64(17), int64(13), object(62)\n",
            "memory usage: 2.7+ MB\n"
          ],
          "name": "stdout"
        }
      ]
    },
    {
      "cell_type": "markdown",
      "metadata": {
        "colab_type": "text",
        "id": "8a5WLH6u1UwX"
      },
      "source": [
        "##Preparing Data\n",
        "**Assessing Data:**"
      ]
    },
    {
      "cell_type": "code",
      "metadata": {
        "id": "EwcYpIUr1feJ",
        "colab_type": "code",
        "outputId": "997e4753-91b1-4aef-a70e-b3fa77776800",
        "colab": {
          "base_uri": "https://localhost:8080/",
          "height": 817
        }
      },
      "source": [
        "seattle_listing.head()"
      ],
      "execution_count": 166,
      "outputs": [
        {
          "output_type": "execute_result",
          "data": {
            "text/html": [
              "<div>\n",
              "<style scoped>\n",
              "    .dataframe tbody tr th:only-of-type {\n",
              "        vertical-align: middle;\n",
              "    }\n",
              "\n",
              "    .dataframe tbody tr th {\n",
              "        vertical-align: top;\n",
              "    }\n",
              "\n",
              "    .dataframe thead th {\n",
              "        text-align: right;\n",
              "    }\n",
              "</style>\n",
              "<table border=\"1\" class=\"dataframe\">\n",
              "  <thead>\n",
              "    <tr style=\"text-align: right;\">\n",
              "      <th></th>\n",
              "      <th>id</th>\n",
              "      <th>listing_url</th>\n",
              "      <th>scrape_id</th>\n",
              "      <th>last_scraped</th>\n",
              "      <th>name</th>\n",
              "      <th>summary</th>\n",
              "      <th>space</th>\n",
              "      <th>description</th>\n",
              "      <th>experiences_offered</th>\n",
              "      <th>neighborhood_overview</th>\n",
              "      <th>notes</th>\n",
              "      <th>transit</th>\n",
              "      <th>thumbnail_url</th>\n",
              "      <th>medium_url</th>\n",
              "      <th>picture_url</th>\n",
              "      <th>xl_picture_url</th>\n",
              "      <th>host_id</th>\n",
              "      <th>host_url</th>\n",
              "      <th>host_name</th>\n",
              "      <th>host_since</th>\n",
              "      <th>host_location</th>\n",
              "      <th>host_about</th>\n",
              "      <th>host_response_time</th>\n",
              "      <th>host_response_rate</th>\n",
              "      <th>host_acceptance_rate</th>\n",
              "      <th>host_is_superhost</th>\n",
              "      <th>host_thumbnail_url</th>\n",
              "      <th>host_picture_url</th>\n",
              "      <th>host_neighbourhood</th>\n",
              "      <th>host_listings_count</th>\n",
              "      <th>host_total_listings_count</th>\n",
              "      <th>host_verifications</th>\n",
              "      <th>host_has_profile_pic</th>\n",
              "      <th>host_identity_verified</th>\n",
              "      <th>street</th>\n",
              "      <th>neighbourhood</th>\n",
              "      <th>neighbourhood_cleansed</th>\n",
              "      <th>neighbourhood_group_cleansed</th>\n",
              "      <th>city</th>\n",
              "      <th>state</th>\n",
              "      <th>...</th>\n",
              "      <th>bedrooms</th>\n",
              "      <th>beds</th>\n",
              "      <th>bed_type</th>\n",
              "      <th>amenities</th>\n",
              "      <th>square_feet</th>\n",
              "      <th>price</th>\n",
              "      <th>weekly_price</th>\n",
              "      <th>monthly_price</th>\n",
              "      <th>security_deposit</th>\n",
              "      <th>cleaning_fee</th>\n",
              "      <th>guests_included</th>\n",
              "      <th>extra_people</th>\n",
              "      <th>minimum_nights</th>\n",
              "      <th>maximum_nights</th>\n",
              "      <th>calendar_updated</th>\n",
              "      <th>has_availability</th>\n",
              "      <th>availability_30</th>\n",
              "      <th>availability_60</th>\n",
              "      <th>availability_90</th>\n",
              "      <th>availability_365</th>\n",
              "      <th>calendar_last_scraped</th>\n",
              "      <th>number_of_reviews</th>\n",
              "      <th>first_review</th>\n",
              "      <th>last_review</th>\n",
              "      <th>review_scores_rating</th>\n",
              "      <th>review_scores_accuracy</th>\n",
              "      <th>review_scores_cleanliness</th>\n",
              "      <th>review_scores_checkin</th>\n",
              "      <th>review_scores_communication</th>\n",
              "      <th>review_scores_location</th>\n",
              "      <th>review_scores_value</th>\n",
              "      <th>requires_license</th>\n",
              "      <th>license</th>\n",
              "      <th>jurisdiction_names</th>\n",
              "      <th>instant_bookable</th>\n",
              "      <th>cancellation_policy</th>\n",
              "      <th>require_guest_profile_picture</th>\n",
              "      <th>require_guest_phone_verification</th>\n",
              "      <th>calculated_host_listings_count</th>\n",
              "      <th>reviews_per_month</th>\n",
              "    </tr>\n",
              "  </thead>\n",
              "  <tbody>\n",
              "    <tr>\n",
              "      <th>0</th>\n",
              "      <td>241032</td>\n",
              "      <td>https://www.airbnb.com/rooms/241032</td>\n",
              "      <td>20160104002432</td>\n",
              "      <td>2016-01-04</td>\n",
              "      <td>Stylish Queen Anne Apartment</td>\n",
              "      <td>NaN</td>\n",
              "      <td>Make your self at home in this charming one-be...</td>\n",
              "      <td>Make your self at home in this charming one-be...</td>\n",
              "      <td>none</td>\n",
              "      <td>NaN</td>\n",
              "      <td>NaN</td>\n",
              "      <td>NaN</td>\n",
              "      <td>NaN</td>\n",
              "      <td>NaN</td>\n",
              "      <td>https://a1.muscache.com/ac/pictures/67560560/c...</td>\n",
              "      <td>NaN</td>\n",
              "      <td>956883</td>\n",
              "      <td>https://www.airbnb.com/users/show/956883</td>\n",
              "      <td>Maija</td>\n",
              "      <td>2011-08-11</td>\n",
              "      <td>Seattle, Washington, United States</td>\n",
              "      <td>I am an artist, interior designer, and run a s...</td>\n",
              "      <td>within a few hours</td>\n",
              "      <td>96%</td>\n",
              "      <td>100%</td>\n",
              "      <td>f</td>\n",
              "      <td>https://a0.muscache.com/ac/users/956883/profil...</td>\n",
              "      <td>https://a0.muscache.com/ac/users/956883/profil...</td>\n",
              "      <td>Queen Anne</td>\n",
              "      <td>3.0</td>\n",
              "      <td>3.0</td>\n",
              "      <td>['email', 'phone', 'reviews', 'kba']</td>\n",
              "      <td>t</td>\n",
              "      <td>t</td>\n",
              "      <td>Gilman Dr W, Seattle, WA 98119, United States</td>\n",
              "      <td>Queen Anne</td>\n",
              "      <td>West Queen Anne</td>\n",
              "      <td>Queen Anne</td>\n",
              "      <td>Seattle</td>\n",
              "      <td>WA</td>\n",
              "      <td>...</td>\n",
              "      <td>1.0</td>\n",
              "      <td>1.0</td>\n",
              "      <td>Real Bed</td>\n",
              "      <td>{TV,\"Cable TV\",Internet,\"Wireless Internet\",\"A...</td>\n",
              "      <td>NaN</td>\n",
              "      <td>$85.00</td>\n",
              "      <td>NaN</td>\n",
              "      <td>NaN</td>\n",
              "      <td>NaN</td>\n",
              "      <td>NaN</td>\n",
              "      <td>2</td>\n",
              "      <td>$5.00</td>\n",
              "      <td>1</td>\n",
              "      <td>365</td>\n",
              "      <td>4 weeks ago</td>\n",
              "      <td>t</td>\n",
              "      <td>14</td>\n",
              "      <td>41</td>\n",
              "      <td>71</td>\n",
              "      <td>346</td>\n",
              "      <td>2016-01-04</td>\n",
              "      <td>207</td>\n",
              "      <td>2011-11-01</td>\n",
              "      <td>2016-01-02</td>\n",
              "      <td>95.0</td>\n",
              "      <td>10.0</td>\n",
              "      <td>10.0</td>\n",
              "      <td>10.0</td>\n",
              "      <td>10.0</td>\n",
              "      <td>9.0</td>\n",
              "      <td>10.0</td>\n",
              "      <td>f</td>\n",
              "      <td>NaN</td>\n",
              "      <td>WASHINGTON</td>\n",
              "      <td>f</td>\n",
              "      <td>moderate</td>\n",
              "      <td>f</td>\n",
              "      <td>f</td>\n",
              "      <td>2</td>\n",
              "      <td>4.07</td>\n",
              "    </tr>\n",
              "    <tr>\n",
              "      <th>1</th>\n",
              "      <td>953595</td>\n",
              "      <td>https://www.airbnb.com/rooms/953595</td>\n",
              "      <td>20160104002432</td>\n",
              "      <td>2016-01-04</td>\n",
              "      <td>Bright &amp; Airy Queen Anne Apartment</td>\n",
              "      <td>Chemically sensitive? We've removed the irrita...</td>\n",
              "      <td>Beautiful, hypoallergenic apartment in an extr...</td>\n",
              "      <td>Chemically sensitive? We've removed the irrita...</td>\n",
              "      <td>none</td>\n",
              "      <td>Queen Anne is a wonderful, truly functional vi...</td>\n",
              "      <td>What's up with the free pillows?  Our home was...</td>\n",
              "      <td>Convenient bus stops are just down the block, ...</td>\n",
              "      <td>https://a0.muscache.com/ac/pictures/14409893/f...</td>\n",
              "      <td>https://a0.muscache.com/im/pictures/14409893/f...</td>\n",
              "      <td>https://a0.muscache.com/ac/pictures/14409893/f...</td>\n",
              "      <td>https://a0.muscache.com/ac/pictures/14409893/f...</td>\n",
              "      <td>5177328</td>\n",
              "      <td>https://www.airbnb.com/users/show/5177328</td>\n",
              "      <td>Andrea</td>\n",
              "      <td>2013-02-21</td>\n",
              "      <td>Seattle, Washington, United States</td>\n",
              "      <td>Living east coast/left coast/overseas.  Time i...</td>\n",
              "      <td>within an hour</td>\n",
              "      <td>98%</td>\n",
              "      <td>100%</td>\n",
              "      <td>t</td>\n",
              "      <td>https://a0.muscache.com/ac/users/5177328/profi...</td>\n",
              "      <td>https://a0.muscache.com/ac/users/5177328/profi...</td>\n",
              "      <td>Queen Anne</td>\n",
              "      <td>6.0</td>\n",
              "      <td>6.0</td>\n",
              "      <td>['email', 'phone', 'facebook', 'linkedin', 're...</td>\n",
              "      <td>t</td>\n",
              "      <td>t</td>\n",
              "      <td>7th Avenue West, Seattle, WA 98119, United States</td>\n",
              "      <td>Queen Anne</td>\n",
              "      <td>West Queen Anne</td>\n",
              "      <td>Queen Anne</td>\n",
              "      <td>Seattle</td>\n",
              "      <td>WA</td>\n",
              "      <td>...</td>\n",
              "      <td>1.0</td>\n",
              "      <td>1.0</td>\n",
              "      <td>Real Bed</td>\n",
              "      <td>{TV,Internet,\"Wireless Internet\",Kitchen,\"Free...</td>\n",
              "      <td>NaN</td>\n",
              "      <td>$150.00</td>\n",
              "      <td>$1,000.00</td>\n",
              "      <td>$3,000.00</td>\n",
              "      <td>$100.00</td>\n",
              "      <td>$40.00</td>\n",
              "      <td>1</td>\n",
              "      <td>$0.00</td>\n",
              "      <td>2</td>\n",
              "      <td>90</td>\n",
              "      <td>today</td>\n",
              "      <td>t</td>\n",
              "      <td>13</td>\n",
              "      <td>13</td>\n",
              "      <td>16</td>\n",
              "      <td>291</td>\n",
              "      <td>2016-01-04</td>\n",
              "      <td>43</td>\n",
              "      <td>2013-08-19</td>\n",
              "      <td>2015-12-29</td>\n",
              "      <td>96.0</td>\n",
              "      <td>10.0</td>\n",
              "      <td>10.0</td>\n",
              "      <td>10.0</td>\n",
              "      <td>10.0</td>\n",
              "      <td>10.0</td>\n",
              "      <td>10.0</td>\n",
              "      <td>f</td>\n",
              "      <td>NaN</td>\n",
              "      <td>WASHINGTON</td>\n",
              "      <td>f</td>\n",
              "      <td>strict</td>\n",
              "      <td>t</td>\n",
              "      <td>t</td>\n",
              "      <td>6</td>\n",
              "      <td>1.48</td>\n",
              "    </tr>\n",
              "    <tr>\n",
              "      <th>2</th>\n",
              "      <td>3308979</td>\n",
              "      <td>https://www.airbnb.com/rooms/3308979</td>\n",
              "      <td>20160104002432</td>\n",
              "      <td>2016-01-04</td>\n",
              "      <td>New Modern House-Amazing water view</td>\n",
              "      <td>New modern house built in 2013.  Spectacular s...</td>\n",
              "      <td>Our house is modern, light and fresh with a wa...</td>\n",
              "      <td>New modern house built in 2013.  Spectacular s...</td>\n",
              "      <td>none</td>\n",
              "      <td>Upper Queen Anne is a charming neighborhood fu...</td>\n",
              "      <td>Our house is located just 5 short blocks to To...</td>\n",
              "      <td>A bus stop is just 2 blocks away.   Easy bus a...</td>\n",
              "      <td>NaN</td>\n",
              "      <td>NaN</td>\n",
              "      <td>https://a2.muscache.com/ac/pictures/b4324e0f-a...</td>\n",
              "      <td>NaN</td>\n",
              "      <td>16708587</td>\n",
              "      <td>https://www.airbnb.com/users/show/16708587</td>\n",
              "      <td>Jill</td>\n",
              "      <td>2014-06-12</td>\n",
              "      <td>Seattle, Washington, United States</td>\n",
              "      <td>i love living in Seattle.  i grew up in the mi...</td>\n",
              "      <td>within a few hours</td>\n",
              "      <td>67%</td>\n",
              "      <td>100%</td>\n",
              "      <td>f</td>\n",
              "      <td>https://a1.muscache.com/ac/users/16708587/prof...</td>\n",
              "      <td>https://a1.muscache.com/ac/users/16708587/prof...</td>\n",
              "      <td>Queen Anne</td>\n",
              "      <td>2.0</td>\n",
              "      <td>2.0</td>\n",
              "      <td>['email', 'phone', 'google', 'reviews', 'jumio']</td>\n",
              "      <td>t</td>\n",
              "      <td>t</td>\n",
              "      <td>West Lee Street, Seattle, WA 98119, United States</td>\n",
              "      <td>Queen Anne</td>\n",
              "      <td>West Queen Anne</td>\n",
              "      <td>Queen Anne</td>\n",
              "      <td>Seattle</td>\n",
              "      <td>WA</td>\n",
              "      <td>...</td>\n",
              "      <td>5.0</td>\n",
              "      <td>7.0</td>\n",
              "      <td>Real Bed</td>\n",
              "      <td>{TV,\"Cable TV\",Internet,\"Wireless Internet\",\"A...</td>\n",
              "      <td>NaN</td>\n",
              "      <td>$975.00</td>\n",
              "      <td>NaN</td>\n",
              "      <td>NaN</td>\n",
              "      <td>$1,000.00</td>\n",
              "      <td>$300.00</td>\n",
              "      <td>10</td>\n",
              "      <td>$25.00</td>\n",
              "      <td>4</td>\n",
              "      <td>30</td>\n",
              "      <td>5 weeks ago</td>\n",
              "      <td>t</td>\n",
              "      <td>1</td>\n",
              "      <td>6</td>\n",
              "      <td>17</td>\n",
              "      <td>220</td>\n",
              "      <td>2016-01-04</td>\n",
              "      <td>20</td>\n",
              "      <td>2014-07-30</td>\n",
              "      <td>2015-09-03</td>\n",
              "      <td>97.0</td>\n",
              "      <td>10.0</td>\n",
              "      <td>10.0</td>\n",
              "      <td>10.0</td>\n",
              "      <td>10.0</td>\n",
              "      <td>10.0</td>\n",
              "      <td>10.0</td>\n",
              "      <td>f</td>\n",
              "      <td>NaN</td>\n",
              "      <td>WASHINGTON</td>\n",
              "      <td>f</td>\n",
              "      <td>strict</td>\n",
              "      <td>f</td>\n",
              "      <td>f</td>\n",
              "      <td>2</td>\n",
              "      <td>1.15</td>\n",
              "    </tr>\n",
              "    <tr>\n",
              "      <th>3</th>\n",
              "      <td>7421966</td>\n",
              "      <td>https://www.airbnb.com/rooms/7421966</td>\n",
              "      <td>20160104002432</td>\n",
              "      <td>2016-01-04</td>\n",
              "      <td>Queen Anne Chateau</td>\n",
              "      <td>A charming apartment that sits atop Queen Anne...</td>\n",
              "      <td>NaN</td>\n",
              "      <td>A charming apartment that sits atop Queen Anne...</td>\n",
              "      <td>none</td>\n",
              "      <td>NaN</td>\n",
              "      <td>NaN</td>\n",
              "      <td>NaN</td>\n",
              "      <td>NaN</td>\n",
              "      <td>NaN</td>\n",
              "      <td>https://a0.muscache.com/ac/pictures/94146944/6...</td>\n",
              "      <td>NaN</td>\n",
              "      <td>9851441</td>\n",
              "      <td>https://www.airbnb.com/users/show/9851441</td>\n",
              "      <td>Emily</td>\n",
              "      <td>2013-11-06</td>\n",
              "      <td>Seattle, Washington, United States</td>\n",
              "      <td>NaN</td>\n",
              "      <td>NaN</td>\n",
              "      <td>NaN</td>\n",
              "      <td>NaN</td>\n",
              "      <td>f</td>\n",
              "      <td>https://a2.muscache.com/ac/users/9851441/profi...</td>\n",
              "      <td>https://a2.muscache.com/ac/users/9851441/profi...</td>\n",
              "      <td>Queen Anne</td>\n",
              "      <td>1.0</td>\n",
              "      <td>1.0</td>\n",
              "      <td>['email', 'phone', 'facebook', 'reviews', 'jum...</td>\n",
              "      <td>t</td>\n",
              "      <td>t</td>\n",
              "      <td>8th Avenue West, Seattle, WA 98119, United States</td>\n",
              "      <td>Queen Anne</td>\n",
              "      <td>West Queen Anne</td>\n",
              "      <td>Queen Anne</td>\n",
              "      <td>Seattle</td>\n",
              "      <td>WA</td>\n",
              "      <td>...</td>\n",
              "      <td>0.0</td>\n",
              "      <td>2.0</td>\n",
              "      <td>Real Bed</td>\n",
              "      <td>{Internet,\"Wireless Internet\",Kitchen,\"Indoor ...</td>\n",
              "      <td>NaN</td>\n",
              "      <td>$100.00</td>\n",
              "      <td>$650.00</td>\n",
              "      <td>$2,300.00</td>\n",
              "      <td>NaN</td>\n",
              "      <td>NaN</td>\n",
              "      <td>1</td>\n",
              "      <td>$0.00</td>\n",
              "      <td>1</td>\n",
              "      <td>1125</td>\n",
              "      <td>6 months ago</td>\n",
              "      <td>t</td>\n",
              "      <td>0</td>\n",
              "      <td>0</td>\n",
              "      <td>0</td>\n",
              "      <td>143</td>\n",
              "      <td>2016-01-04</td>\n",
              "      <td>0</td>\n",
              "      <td>NaN</td>\n",
              "      <td>NaN</td>\n",
              "      <td>NaN</td>\n",
              "      <td>NaN</td>\n",
              "      <td>NaN</td>\n",
              "      <td>NaN</td>\n",
              "      <td>NaN</td>\n",
              "      <td>NaN</td>\n",
              "      <td>NaN</td>\n",
              "      <td>f</td>\n",
              "      <td>NaN</td>\n",
              "      <td>WASHINGTON</td>\n",
              "      <td>f</td>\n",
              "      <td>flexible</td>\n",
              "      <td>f</td>\n",
              "      <td>f</td>\n",
              "      <td>1</td>\n",
              "      <td>NaN</td>\n",
              "    </tr>\n",
              "    <tr>\n",
              "      <th>4</th>\n",
              "      <td>278830</td>\n",
              "      <td>https://www.airbnb.com/rooms/278830</td>\n",
              "      <td>20160104002432</td>\n",
              "      <td>2016-01-04</td>\n",
              "      <td>Charming craftsman 3 bdm house</td>\n",
              "      <td>Cozy family craftman house in beautiful neighb...</td>\n",
              "      <td>Cozy family craftman house in beautiful neighb...</td>\n",
              "      <td>Cozy family craftman house in beautiful neighb...</td>\n",
              "      <td>none</td>\n",
              "      <td>We are in the beautiful neighborhood of Queen ...</td>\n",
              "      <td>Belltown</td>\n",
              "      <td>The nearest public transit bus (D Line) is 2 b...</td>\n",
              "      <td>NaN</td>\n",
              "      <td>NaN</td>\n",
              "      <td>https://a1.muscache.com/ac/pictures/6120468/b0...</td>\n",
              "      <td>NaN</td>\n",
              "      <td>1452570</td>\n",
              "      <td>https://www.airbnb.com/users/show/1452570</td>\n",
              "      <td>Emily</td>\n",
              "      <td>2011-11-29</td>\n",
              "      <td>Seattle, Washington, United States</td>\n",
              "      <td>Hi, I live in Seattle, Washington but I'm orig...</td>\n",
              "      <td>within an hour</td>\n",
              "      <td>100%</td>\n",
              "      <td>NaN</td>\n",
              "      <td>f</td>\n",
              "      <td>https://a0.muscache.com/ac/users/1452570/profi...</td>\n",
              "      <td>https://a0.muscache.com/ac/users/1452570/profi...</td>\n",
              "      <td>Queen Anne</td>\n",
              "      <td>2.0</td>\n",
              "      <td>2.0</td>\n",
              "      <td>['email', 'phone', 'facebook', 'reviews', 'kba']</td>\n",
              "      <td>t</td>\n",
              "      <td>t</td>\n",
              "      <td>14th Ave W, Seattle, WA 98119, United States</td>\n",
              "      <td>Queen Anne</td>\n",
              "      <td>West Queen Anne</td>\n",
              "      <td>Queen Anne</td>\n",
              "      <td>Seattle</td>\n",
              "      <td>WA</td>\n",
              "      <td>...</td>\n",
              "      <td>3.0</td>\n",
              "      <td>3.0</td>\n",
              "      <td>Real Bed</td>\n",
              "      <td>{TV,\"Cable TV\",Internet,\"Wireless Internet\",Ki...</td>\n",
              "      <td>NaN</td>\n",
              "      <td>$450.00</td>\n",
              "      <td>NaN</td>\n",
              "      <td>NaN</td>\n",
              "      <td>$700.00</td>\n",
              "      <td>$125.00</td>\n",
              "      <td>6</td>\n",
              "      <td>$15.00</td>\n",
              "      <td>1</td>\n",
              "      <td>1125</td>\n",
              "      <td>7 weeks ago</td>\n",
              "      <td>t</td>\n",
              "      <td>30</td>\n",
              "      <td>60</td>\n",
              "      <td>90</td>\n",
              "      <td>365</td>\n",
              "      <td>2016-01-04</td>\n",
              "      <td>38</td>\n",
              "      <td>2012-07-10</td>\n",
              "      <td>2015-10-24</td>\n",
              "      <td>92.0</td>\n",
              "      <td>9.0</td>\n",
              "      <td>9.0</td>\n",
              "      <td>10.0</td>\n",
              "      <td>10.0</td>\n",
              "      <td>9.0</td>\n",
              "      <td>9.0</td>\n",
              "      <td>f</td>\n",
              "      <td>NaN</td>\n",
              "      <td>WASHINGTON</td>\n",
              "      <td>f</td>\n",
              "      <td>strict</td>\n",
              "      <td>f</td>\n",
              "      <td>f</td>\n",
              "      <td>1</td>\n",
              "      <td>0.89</td>\n",
              "    </tr>\n",
              "  </tbody>\n",
              "</table>\n",
              "<p>5 rows × 92 columns</p>\n",
              "</div>"
            ],
            "text/plain": [
              "        id  ... reviews_per_month\n",
              "0   241032  ...              4.07\n",
              "1   953595  ...              1.48\n",
              "2  3308979  ...              1.15\n",
              "3  7421966  ...               NaN\n",
              "4   278830  ...              0.89\n",
              "\n",
              "[5 rows x 92 columns]"
            ]
          },
          "metadata": {
            "tags": []
          },
          "execution_count": 166
        }
      ]
    },
    {
      "cell_type": "markdown",
      "metadata": {
        "id": "5UJC-6Ew2v9l",
        "colab_type": "text"
      },
      "source": [
        "**Cleaning Data**"
      ]
    },
    {
      "cell_type": "code",
      "metadata": {
        "id": "rDmcW8pmk-cY",
        "colab_type": "code",
        "outputId": "6551b2a4-d2f8-4066-bd6c-54c076012ffc",
        "colab": {
          "base_uri": "https://localhost:8080/",
          "height": 407
        }
      },
      "source": [
        "#Select some potential factors that may effect the price of listing\n",
        "seattle_price = seattle_listing[['id', 'bedrooms', 'bathrooms', 'review_scores_rating', 'price']]\n",
        "seattle_price"
      ],
      "execution_count": 167,
      "outputs": [
        {
          "output_type": "execute_result",
          "data": {
            "text/html": [
              "<div>\n",
              "<style scoped>\n",
              "    .dataframe tbody tr th:only-of-type {\n",
              "        vertical-align: middle;\n",
              "    }\n",
              "\n",
              "    .dataframe tbody tr th {\n",
              "        vertical-align: top;\n",
              "    }\n",
              "\n",
              "    .dataframe thead th {\n",
              "        text-align: right;\n",
              "    }\n",
              "</style>\n",
              "<table border=\"1\" class=\"dataframe\">\n",
              "  <thead>\n",
              "    <tr style=\"text-align: right;\">\n",
              "      <th></th>\n",
              "      <th>id</th>\n",
              "      <th>bedrooms</th>\n",
              "      <th>bathrooms</th>\n",
              "      <th>review_scores_rating</th>\n",
              "      <th>price</th>\n",
              "    </tr>\n",
              "  </thead>\n",
              "  <tbody>\n",
              "    <tr>\n",
              "      <th>0</th>\n",
              "      <td>241032</td>\n",
              "      <td>1.0</td>\n",
              "      <td>1.0</td>\n",
              "      <td>95.0</td>\n",
              "      <td>$85.00</td>\n",
              "    </tr>\n",
              "    <tr>\n",
              "      <th>1</th>\n",
              "      <td>953595</td>\n",
              "      <td>1.0</td>\n",
              "      <td>1.0</td>\n",
              "      <td>96.0</td>\n",
              "      <td>$150.00</td>\n",
              "    </tr>\n",
              "    <tr>\n",
              "      <th>2</th>\n",
              "      <td>3308979</td>\n",
              "      <td>5.0</td>\n",
              "      <td>4.5</td>\n",
              "      <td>97.0</td>\n",
              "      <td>$975.00</td>\n",
              "    </tr>\n",
              "    <tr>\n",
              "      <th>3</th>\n",
              "      <td>7421966</td>\n",
              "      <td>0.0</td>\n",
              "      <td>1.0</td>\n",
              "      <td>NaN</td>\n",
              "      <td>$100.00</td>\n",
              "    </tr>\n",
              "    <tr>\n",
              "      <th>4</th>\n",
              "      <td>278830</td>\n",
              "      <td>3.0</td>\n",
              "      <td>2.0</td>\n",
              "      <td>92.0</td>\n",
              "      <td>$450.00</td>\n",
              "    </tr>\n",
              "    <tr>\n",
              "      <th>...</th>\n",
              "      <td>...</td>\n",
              "      <td>...</td>\n",
              "      <td>...</td>\n",
              "      <td>...</td>\n",
              "      <td>...</td>\n",
              "    </tr>\n",
              "    <tr>\n",
              "      <th>3813</th>\n",
              "      <td>8101950</td>\n",
              "      <td>3.0</td>\n",
              "      <td>2.0</td>\n",
              "      <td>80.0</td>\n",
              "      <td>$359.00</td>\n",
              "    </tr>\n",
              "    <tr>\n",
              "      <th>3814</th>\n",
              "      <td>8902327</td>\n",
              "      <td>1.0</td>\n",
              "      <td>1.0</td>\n",
              "      <td>100.0</td>\n",
              "      <td>$79.00</td>\n",
              "    </tr>\n",
              "    <tr>\n",
              "      <th>3815</th>\n",
              "      <td>10267360</td>\n",
              "      <td>1.0</td>\n",
              "      <td>1.0</td>\n",
              "      <td>NaN</td>\n",
              "      <td>$93.00</td>\n",
              "    </tr>\n",
              "    <tr>\n",
              "      <th>3816</th>\n",
              "      <td>9604740</td>\n",
              "      <td>0.0</td>\n",
              "      <td>1.0</td>\n",
              "      <td>NaN</td>\n",
              "      <td>$99.00</td>\n",
              "    </tr>\n",
              "    <tr>\n",
              "      <th>3817</th>\n",
              "      <td>10208623</td>\n",
              "      <td>2.0</td>\n",
              "      <td>1.5</td>\n",
              "      <td>NaN</td>\n",
              "      <td>$87.00</td>\n",
              "    </tr>\n",
              "  </tbody>\n",
              "</table>\n",
              "<p>3818 rows × 5 columns</p>\n",
              "</div>"
            ],
            "text/plain": [
              "            id  bedrooms  bathrooms  review_scores_rating    price\n",
              "0       241032       1.0        1.0                  95.0   $85.00\n",
              "1       953595       1.0        1.0                  96.0  $150.00\n",
              "2      3308979       5.0        4.5                  97.0  $975.00\n",
              "3      7421966       0.0        1.0                   NaN  $100.00\n",
              "4       278830       3.0        2.0                  92.0  $450.00\n",
              "...        ...       ...        ...                   ...      ...\n",
              "3813   8101950       3.0        2.0                  80.0  $359.00\n",
              "3814   8902327       1.0        1.0                 100.0   $79.00\n",
              "3815  10267360       1.0        1.0                   NaN   $93.00\n",
              "3816   9604740       0.0        1.0                   NaN   $99.00\n",
              "3817  10208623       2.0        1.5                   NaN   $87.00\n",
              "\n",
              "[3818 rows x 5 columns]"
            ]
          },
          "metadata": {
            "tags": []
          },
          "execution_count": 167
        }
      ]
    },
    {
      "cell_type": "code",
      "metadata": {
        "id": "ZpBIkuXvlyYH",
        "colab_type": "code",
        "outputId": "2b47c6fa-b674-4978-f62f-487cb0979523",
        "colab": {
          "base_uri": "https://localhost:8080/",
          "height": 190
        }
      },
      "source": [
        "seattle_price.info()"
      ],
      "execution_count": 168,
      "outputs": [
        {
          "output_type": "stream",
          "text": [
            "<class 'pandas.core.frame.DataFrame'>\n",
            "RangeIndex: 3818 entries, 0 to 3817\n",
            "Data columns (total 5 columns):\n",
            "id                      3818 non-null int64\n",
            "bedrooms                3812 non-null float64\n",
            "bathrooms               3802 non-null float64\n",
            "review_scores_rating    3171 non-null float64\n",
            "price                   3818 non-null object\n",
            "dtypes: float64(3), int64(1), object(1)\n",
            "memory usage: 149.3+ KB\n"
          ],
          "name": "stdout"
        }
      ]
    },
    {
      "cell_type": "code",
      "metadata": {
        "id": "nVJvTzhZ5atK",
        "colab_type": "code",
        "outputId": "cca9d825-edb0-4c44-fc5c-71a939be89b3",
        "colab": {
          "base_uri": "https://localhost:8080/",
          "height": 452
        }
      },
      "source": [
        "# Remove all symbols from price\n",
        "seattle_price['price'] = seattle_price['price'].str.replace(r'\\D', '')\n",
        "seattle_price['price'] = seattle_price['price'].astype(int)\n",
        "seattle_price['price'] = seattle_price['price'] / 100"
      ],
      "execution_count": 169,
      "outputs": [
        {
          "output_type": "stream",
          "text": [
            "/usr/local/lib/python3.6/dist-packages/ipykernel_launcher.py:1: SettingWithCopyWarning:\n",
            "\n",
            "\n",
            "A value is trying to be set on a copy of a slice from a DataFrame.\n",
            "Try using .loc[row_indexer,col_indexer] = value instead\n",
            "\n",
            "See the caveats in the documentation: http://pandas.pydata.org/pandas-docs/stable/user_guide/indexing.html#returning-a-view-versus-a-copy\n",
            "\n",
            "/usr/local/lib/python3.6/dist-packages/ipykernel_launcher.py:2: SettingWithCopyWarning:\n",
            "\n",
            "\n",
            "A value is trying to be set on a copy of a slice from a DataFrame.\n",
            "Try using .loc[row_indexer,col_indexer] = value instead\n",
            "\n",
            "See the caveats in the documentation: http://pandas.pydata.org/pandas-docs/stable/user_guide/indexing.html#returning-a-view-versus-a-copy\n",
            "\n",
            "/usr/local/lib/python3.6/dist-packages/ipykernel_launcher.py:3: SettingWithCopyWarning:\n",
            "\n",
            "\n",
            "A value is trying to be set on a copy of a slice from a DataFrame.\n",
            "Try using .loc[row_indexer,col_indexer] = value instead\n",
            "\n",
            "See the caveats in the documentation: http://pandas.pydata.org/pandas-docs/stable/user_guide/indexing.html#returning-a-view-versus-a-copy\n",
            "\n"
          ],
          "name": "stderr"
        }
      ]
    },
    {
      "cell_type": "code",
      "metadata": {
        "id": "iqKJ2grf3cVC",
        "colab_type": "code",
        "outputId": "1b920d63-2e4b-4ed4-9c51-b173e5f104e7",
        "colab": {
          "base_uri": "https://localhost:8080/",
          "height": 190
        }
      },
      "source": [
        "#Fill NaN values with the mean value of the column\n",
        "fill_mean = lambda col: col.fillna(col.mean())\n",
        "\n",
        "seattle_price = seattle_price.apply(fill_mean, axis=0)\n",
        "seattle_price.info()"
      ],
      "execution_count": 170,
      "outputs": [
        {
          "output_type": "stream",
          "text": [
            "<class 'pandas.core.frame.DataFrame'>\n",
            "RangeIndex: 3818 entries, 0 to 3817\n",
            "Data columns (total 5 columns):\n",
            "id                      3818 non-null int64\n",
            "bedrooms                3818 non-null float64\n",
            "bathrooms               3818 non-null float64\n",
            "review_scores_rating    3818 non-null float64\n",
            "price                   3818 non-null float64\n",
            "dtypes: float64(4), int64(1)\n",
            "memory usage: 149.3 KB\n"
          ],
          "name": "stdout"
        }
      ]
    },
    {
      "cell_type": "code",
      "metadata": {
        "id": "Crb9aPgooF_O",
        "colab_type": "code",
        "outputId": "1150f908-c9ac-46e7-f070-7e47f7571271",
        "colab": {
          "base_uri": "https://localhost:8080/",
          "height": 407
        }
      },
      "source": [
        "seattle_price"
      ],
      "execution_count": 171,
      "outputs": [
        {
          "output_type": "execute_result",
          "data": {
            "text/html": [
              "<div>\n",
              "<style scoped>\n",
              "    .dataframe tbody tr th:only-of-type {\n",
              "        vertical-align: middle;\n",
              "    }\n",
              "\n",
              "    .dataframe tbody tr th {\n",
              "        vertical-align: top;\n",
              "    }\n",
              "\n",
              "    .dataframe thead th {\n",
              "        text-align: right;\n",
              "    }\n",
              "</style>\n",
              "<table border=\"1\" class=\"dataframe\">\n",
              "  <thead>\n",
              "    <tr style=\"text-align: right;\">\n",
              "      <th></th>\n",
              "      <th>id</th>\n",
              "      <th>bedrooms</th>\n",
              "      <th>bathrooms</th>\n",
              "      <th>review_scores_rating</th>\n",
              "      <th>price</th>\n",
              "    </tr>\n",
              "  </thead>\n",
              "  <tbody>\n",
              "    <tr>\n",
              "      <th>0</th>\n",
              "      <td>241032</td>\n",
              "      <td>1.0</td>\n",
              "      <td>1.0</td>\n",
              "      <td>95.000000</td>\n",
              "      <td>85.0</td>\n",
              "    </tr>\n",
              "    <tr>\n",
              "      <th>1</th>\n",
              "      <td>953595</td>\n",
              "      <td>1.0</td>\n",
              "      <td>1.0</td>\n",
              "      <td>96.000000</td>\n",
              "      <td>150.0</td>\n",
              "    </tr>\n",
              "    <tr>\n",
              "      <th>2</th>\n",
              "      <td>3308979</td>\n",
              "      <td>5.0</td>\n",
              "      <td>4.5</td>\n",
              "      <td>97.000000</td>\n",
              "      <td>975.0</td>\n",
              "    </tr>\n",
              "    <tr>\n",
              "      <th>3</th>\n",
              "      <td>7421966</td>\n",
              "      <td>0.0</td>\n",
              "      <td>1.0</td>\n",
              "      <td>94.539262</td>\n",
              "      <td>100.0</td>\n",
              "    </tr>\n",
              "    <tr>\n",
              "      <th>4</th>\n",
              "      <td>278830</td>\n",
              "      <td>3.0</td>\n",
              "      <td>2.0</td>\n",
              "      <td>92.000000</td>\n",
              "      <td>450.0</td>\n",
              "    </tr>\n",
              "    <tr>\n",
              "      <th>...</th>\n",
              "      <td>...</td>\n",
              "      <td>...</td>\n",
              "      <td>...</td>\n",
              "      <td>...</td>\n",
              "      <td>...</td>\n",
              "    </tr>\n",
              "    <tr>\n",
              "      <th>3813</th>\n",
              "      <td>8101950</td>\n",
              "      <td>3.0</td>\n",
              "      <td>2.0</td>\n",
              "      <td>80.000000</td>\n",
              "      <td>359.0</td>\n",
              "    </tr>\n",
              "    <tr>\n",
              "      <th>3814</th>\n",
              "      <td>8902327</td>\n",
              "      <td>1.0</td>\n",
              "      <td>1.0</td>\n",
              "      <td>100.000000</td>\n",
              "      <td>79.0</td>\n",
              "    </tr>\n",
              "    <tr>\n",
              "      <th>3815</th>\n",
              "      <td>10267360</td>\n",
              "      <td>1.0</td>\n",
              "      <td>1.0</td>\n",
              "      <td>94.539262</td>\n",
              "      <td>93.0</td>\n",
              "    </tr>\n",
              "    <tr>\n",
              "      <th>3816</th>\n",
              "      <td>9604740</td>\n",
              "      <td>0.0</td>\n",
              "      <td>1.0</td>\n",
              "      <td>94.539262</td>\n",
              "      <td>99.0</td>\n",
              "    </tr>\n",
              "    <tr>\n",
              "      <th>3817</th>\n",
              "      <td>10208623</td>\n",
              "      <td>2.0</td>\n",
              "      <td>1.5</td>\n",
              "      <td>94.539262</td>\n",
              "      <td>87.0</td>\n",
              "    </tr>\n",
              "  </tbody>\n",
              "</table>\n",
              "<p>3818 rows × 5 columns</p>\n",
              "</div>"
            ],
            "text/plain": [
              "            id  bedrooms  bathrooms  review_scores_rating  price\n",
              "0       241032       1.0        1.0             95.000000   85.0\n",
              "1       953595       1.0        1.0             96.000000  150.0\n",
              "2      3308979       5.0        4.5             97.000000  975.0\n",
              "3      7421966       0.0        1.0             94.539262  100.0\n",
              "4       278830       3.0        2.0             92.000000  450.0\n",
              "...        ...       ...        ...                   ...    ...\n",
              "3813   8101950       3.0        2.0             80.000000  359.0\n",
              "3814   8902327       1.0        1.0            100.000000   79.0\n",
              "3815  10267360       1.0        1.0             94.539262   93.0\n",
              "3816   9604740       0.0        1.0             94.539262   99.0\n",
              "3817  10208623       2.0        1.5             94.539262   87.0\n",
              "\n",
              "[3818 rows x 5 columns]"
            ]
          },
          "metadata": {
            "tags": []
          },
          "execution_count": 171
        }
      ]
    },
    {
      "cell_type": "code",
      "metadata": {
        "id": "MDzaFdYTpHtQ",
        "colab_type": "code",
        "outputId": "f4f3014c-2152-43ef-e6a7-0362bd093018",
        "colab": {
          "base_uri": "https://localhost:8080/",
          "height": 281
        }
      },
      "source": [
        "seattle_price.hist();"
      ],
      "execution_count": 172,
      "outputs": [
        {
          "output_type": "display_data",
          "data": {
            "image/png": "[encoded data removed]",
            "text/plain": [
              "<Figure size 432x288 with 6 Axes>"
            ]
          },
          "metadata": {
            "tags": []
          }
        }
      ]
    },
    {
      "cell_type": "markdown",
      "metadata": {
        "colab_type": "text",
        "id": "7Xf0kXRvEP3s"
      },
      "source": [
        "##Data Modeling:"
      ]
    },
    {
      "cell_type": "code",
      "metadata": {
        "id": "lchxFmovqCnF",
        "colab_type": "code",
        "outputId": "1333786d-3c36-4c77-bd20-626cce31d183",
        "colab": {
          "base_uri": "https://localhost:8080/",
          "height": 365
        }
      },
      "source": [
        "#Look at some potential correlation between Price and other factors\n",
        "sns.heatmap(seattle_price.corr(), annot=True, fmt=\".2f\");"
      ],
      "execution_count": 173,
      "outputs": [
        {
          "output_type": "display_data",
          "data": {
            "image/png": "[encoded data removed]",
            "text/plain": [
              "<Figure size 432x288 with 2 Axes>"
            ]
          },
          "metadata": {
            "tags": []
          }
        }
      ]
    },
    {
      "cell_type": "code",
      "metadata": {
        "id": "rcM3R257rSmc",
        "colab_type": "code",
        "outputId": "1b3a76c4-207b-4981-a894-79af90c8a8c9",
        "colab": {
          "base_uri": "https://localhost:8080/",
          "height": 55
        }
      },
      "source": [
        "\n",
        "#Split into explanatory and response variables\n",
        "X = seattle_price[['bedrooms', 'bathrooms', 'review_scores_rating']]\n",
        "y = seattle_price['price']\n",
        "\n",
        "#Split into train and test\n",
        "X_train, X_test, y_train, y_test = train_test_split(X, y, test_size = .30, random_state=42) \n",
        "\n",
        "lm_model = LinearRegression(normalize=True) # Instantiate\n",
        "lm_model.fit(X_train, y_train) #Fit\n",
        "        \n",
        "#Predict and score the model\n",
        "y_test_preds = lm_model.predict(X_test) \n",
        "\"The r-squared score for the model using only quantitative variables was {} on {} values.\".format(r2_score(y_test, y_test_preds), len(y_test))"
      ],
      "execution_count": 174,
      "outputs": [
        {
          "output_type": "execute_result",
          "data": {
            "text/plain": [
              "'The r-squared score for the model using only quantitative variables was 0.45611455864241 on 1146 values.'"
            ]
          },
          "metadata": {
            "tags": []
          },
          "execution_count": 174
        }
      ]
    },
    {
      "cell_type": "code",
      "metadata": {
        "id": "KwWN8Oa5swH4",
        "colab_type": "code",
        "outputId": "9d14550e-bf73-48b7-f6a5-8c3978db7d26",
        "colab": {
          "base_uri": "https://localhost:8080/",
          "height": 452
        }
      },
      "source": [
        "seattle_neighborhood = seattle_listing[['id', 'neighbourhood', 'price']]\n",
        "# Remove all symbols from price\n",
        "seattle_neighborhood['price'] = seattle_neighborhood['price'].str.replace(r'\\D', '')\n",
        "seattle_neighborhood['price'] = seattle_neighborhood['price'].astype(int)\n",
        "seattle_neighborhood['price'] = seattle_neighborhood['price'] / 100"
      ],
      "execution_count": 175,
      "outputs": [
        {
          "output_type": "stream",
          "text": [
            "/usr/local/lib/python3.6/dist-packages/ipykernel_launcher.py:3: SettingWithCopyWarning:\n",
            "\n",
            "\n",
            "A value is trying to be set on a copy of a slice from a DataFrame.\n",
            "Try using .loc[row_indexer,col_indexer] = value instead\n",
            "\n",
            "See the caveats in the documentation: http://pandas.pydata.org/pandas-docs/stable/user_guide/indexing.html#returning-a-view-versus-a-copy\n",
            "\n",
            "/usr/local/lib/python3.6/dist-packages/ipykernel_launcher.py:4: SettingWithCopyWarning:\n",
            "\n",
            "\n",
            "A value is trying to be set on a copy of a slice from a DataFrame.\n",
            "Try using .loc[row_indexer,col_indexer] = value instead\n",
            "\n",
            "See the caveats in the documentation: http://pandas.pydata.org/pandas-docs/stable/user_guide/indexing.html#returning-a-view-versus-a-copy\n",
            "\n",
            "/usr/local/lib/python3.6/dist-packages/ipykernel_launcher.py:5: SettingWithCopyWarning:\n",
            "\n",
            "\n",
            "A value is trying to be set on a copy of a slice from a DataFrame.\n",
            "Try using .loc[row_indexer,col_indexer] = value instead\n",
            "\n",
            "See the caveats in the documentation: http://pandas.pydata.org/pandas-docs/stable/user_guide/indexing.html#returning-a-view-versus-a-copy\n",
            "\n"
          ],
          "name": "stderr"
        }
      ]
    },
    {
      "cell_type": "markdown",
      "metadata": {
        "colab_type": "text",
        "id": "DBTZxlnpEhM7"
      },
      "source": [
        "##Preparing Data\n",
        "**Cleaning Data:**"
      ]
    },
    {
      "cell_type": "code",
      "metadata": {
        "id": "EwlfAWp9Ajq-",
        "colab_type": "code",
        "colab": {}
      },
      "source": [
        "#Filter out neighborhood that only has a few listings less than 5\n",
        "seattle_neighborhood = seattle_neighborhood[seattle_neighborhood.groupby('neighbourhood')['neighbourhood'].transform('size') > 5]"
      ],
      "execution_count": 0,
      "outputs": []
    },
    {
      "cell_type": "code",
      "metadata": {
        "id": "W6HZ2GuxvJXt",
        "colab_type": "code",
        "colab": {}
      },
      "source": [
        "#Arrange neighborhood by average price\n",
        "neighbourhood = seattle_neighborhood.groupby('neighbourhood')['price'].mean()\n",
        "neighbourhood.sort_values(ascending=False, inplace=True)"
      ],
      "execution_count": 0,
      "outputs": []
    },
    {
      "cell_type": "markdown",
      "metadata": {
        "colab_type": "text",
        "id": "iw_98ELWETi8"
      },
      "source": [
        "##Data Modeling:"
      ]
    },
    {
      "cell_type": "code",
      "metadata": {
        "id": "9FNbOn-3ygTw",
        "colab_type": "code",
        "outputId": "ee9b666d-935a-43df-d363-828f9fad8d2d",
        "colab": {
          "base_uri": "https://localhost:8080/",
          "height": 755
        }
      },
      "source": [
        "neighbourhood.plot(kind='bar', figsize=(16,10), title='Average Price per Neighborhood');"
      ],
      "execution_count": 178,
      "outputs": [
        {
          "output_type": "display_data",
          "data": {
            "image/png": "[encoded data removed]",
            "text/plain": [
              "<Figure size 1152x720 with 1 Axes>"
            ]
          },
          "metadata": {
            "tags": []
          }
        }
      ]
    },
    {
      "cell_type": "markdown",
      "metadata": {
        "colab_type": "text",
        "id": "X2aAYUMKEy4f"
      },
      "source": [
        "##Evaluate Results\n",
        "For Seattle Listing, there is a clear correlation between neighborhood and price. For example, there is a vast difference between the top neighborhood and the bottom neighborhood. Portage Bay is more than 3 times the price as Olympic Hills. Also, Seattle provides a variety of pricing per neighborhood for different customer's budgets."
      ]
    },
    {
      "cell_type": "markdown",
      "metadata": {
        "colab_type": "text",
        "id": "IqwiueI1Fw0W"
      },
      "source": [
        "##Deploy\n",
        "There is a clear correlation between Price and Neighborhood. For those who wants a good deal, look for Neighborhood like Rainier Beach, Dunlap, and Olympic Hills and avoid places like Portage Bay, Westlake, and Alki."
      ]
    },
    {
      "cell_type": "code",
      "metadata": {
        "id": "cCONvGYumdMk",
        "colab_type": "code",
        "colab": {}
      },
      "source": [
        ""
      ],
      "execution_count": 0,
      "outputs": []
    }
  ]
}